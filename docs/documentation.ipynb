{
  "nbformat": 4,
  "nbformat_minor": 0,
  "metadata": {
    "colab": {
      "name": "documentation.ipynb",
      "version": "0.3.2",
      "provenance": [],
      "collapsed_sections": []
    },
    "kernelspec": {
      "name": "python3",
      "display_name": "Python 3"
    }
  },
  "cells": [
    {
      "metadata": {
        "id": "Mwe4dFKJBG2Y",
        "colab_type": "text"
      },
      "cell_type": "markdown",
      "source": [
        "# Introduction\n",
        "Differentiation is one of the most important operations in science.  Finding extrema of functions and determining zeros of functions are central to optimization.  Numerically solving differential equations forms a cornerstone of modern science and engineering and is intimately linked with predictive science.\n",
        "\n",
        "A very frequent occurrence in science requires the scientist to find the zeros of a function ![equation](http://latex.codecogs.com/gif.latex?f%5Cleft%28x%5Cright%29).  The input to the function is a m- dimensional vector and the function returns an n- dimensional vector.  We denote this mathematically as ![equation](http://latex.codecogs.com/gif.latex?f%5Cleft%28x%5Cright%29): ![equation](http://latex.codecogs.com/gif.latex?%5Cmathbb%7BR%7D%5E%7Bm%7D%20%5Cmapsto%20%5Cmathbb%7BR%7D%5E%7Bn%7D).  This expression is read:  the function ![equation](http://latex.codecogs.com/gif.latex?f%5Cleft%28x%5Cright%29) maps ![equation](http://latex.codecogs.com/gif.latex?%5Cmathbb%7BR%7D%5E%7Bm%7D%20%5Cmapsto%20%5Cmathbb%7BR%7D%5E%7Bn%7D).\n",
        "In CS207, we explored the finite difference method, but we also computed a symbolic derivative.  The finite difference approach is nice because it is quick and easy.  However, it suffers from accuracy and stability problems.  On the other hand, symbolic derivatives can be evaluated to machine precision, but can be costly to evaluate.\n",
        "Automatic differentiation (AD) overcomes both of these deficiencies. It is less costly than symbolic differentiation while evaluating derivatives to machine precision, using the chain rule to break apart complex functions to atomic pieces. There are two primary modes of automatic differentiation: forward and reverse. In the forward mode, differentiation is carried out beginning with respect to the input variables, while the reverse begins with the output variables. In many situations where there are a disproportionate amount of possible inputs (or intermediate nodes) to outputs (often just one in the case of loss functions or model metrics), the reverse mode can be much more efficient.\n",
        "\n",
        "This library was designed on the backend with a high-level of abstraction and ease of extensibility in mind, and with a symbolic-like simplistic interface on the frontend. This package implements both the forward and the reverse mode (with additional vectorized support for the forward mode). In addition to extensions in the reverse mode, it provides a number of visualization capabilities stemming from the need to keep track of computation, allowing users to visualize in graphs and tables any formula with any number of variables. In applying the package, we further provide some demonstrations in the applications of AD through an exploration of Newton fractals in the examples folder, demonstrating some discrepancies between finite difference methods of differentiation and AD. "
      ]
    },
    {
      "metadata": {
        "id": "r4EF-MsFBJvI",
        "colab_type": "text"
      },
      "cell_type": "markdown",
      "source": [
        "\n",
        "# How to Use Package\n",
        "To use, first create a new virtual environment in order to develop with the package without polluting the global environment with dependencies. To do so, install virtualenv with the command `sudo easy_install virtualenv`. Next, go to the top level of your project directory and create a new virtual environment with the command `virtualenv [name]`. To activate the environment, type the command `source [name]/bin/activate`. Thus far, you have set up and activated your dev environment and can begin interacting with the AutoDiff package. To install the package, type in the command line 'pip install autodiff-jel'. You should see an output like so:\n",
        "\n",
        "```\n",
        "Collecting autodiff-jel\n",
        "  Downloading https://files.pythonhosted.org/packages/30/62/6840afab118ec0b50c049703638f5fb06d79f6a876ee30439154bf2d224b/autodiff_jel-0.0.4.tar.gz\n",
        "Collecting numpy (from autodiff-jel)\n",
        "  Downloading https://files.pythonhosted.org/packages/74/68/2b00ba3c7390354db2a1706291750b6b7e911f6f79c0bd2184ae04f3c6fd/numpy-1.15.4-cp36-cp36m-macosx_10_6_intel.macosx_10_9_intel.macosx_10_9_x86_64.macosx_10_10_intel.macosx_10_10_x86_64.whl (24.5MB)\n",
        "    100% |████████████████████████████████| 24.5MB 164kB/s \n",
        "Collecting graphviz (from autodiff-jel)\n",
        "  Using cached https://files.pythonhosted.org/packages/1f/e2/ef2581b5b86625657afd32030f90cf2717456c1d2b711ba074bf007c0f1a/graphviz-0.10.1-py2.py3-none-any.whl\n",
        "Building wheels for collected packages: autodiff-jel\n",
        "  Running setup.py bdist_wheel for autodiff-jel ... done\n",
        "  Stored in directory: /root/.cache/pip/wheels/21/c5/9b/334502b015b5461601f7c69febf8be158082b3dccbe0f34cbc\n",
        "Successfully built autodiff-jel\n",
        "Installing collected packages: numpy, graphviz, autodiff-jel\n",
        "Successfully installed autodiff-jel-0.0.4 graphviz-0.10.1 numpy-1.15.4\n",
        "```"
      ]
    },
    {
      "metadata": {
        "id": "y0VQPcuGDwGG",
        "colab_type": "code",
        "outputId": "59dea46a-89a1-4183-e5e0-ec8d1b165975",
        "colab": {
          "base_uri": "https://localhost:8080/",
          "height": 224
        }
      },
      "cell_type": "code",
      "source": [
        "%%bash\n",
        "pip install autodiff-jel --upgrade"
      ],
      "execution_count": 0,
      "outputs": [
        {
          "output_type": "stream",
          "text": [
            "Collecting autodiff-jel\n",
            "  Downloading https://files.pythonhosted.org/packages/30/62/6840afab118ec0b50c049703638f5fb06d79f6a876ee30439154bf2d224b/autodiff_jel-0.0.4.tar.gz\n",
            "Requirement already satisfied, skipping upgrade: numpy in /usr/local/lib/python3.6/dist-packages (from autodiff-jel) (1.14.6)\n",
            "Requirement already satisfied, skipping upgrade: graphviz in /usr/local/lib/python3.6/dist-packages (from autodiff-jel) (0.10.1)\n",
            "Building wheels for collected packages: autodiff-jel\n",
            "  Running setup.py bdist_wheel for autodiff-jel: started\n",
            "  Running setup.py bdist_wheel for autodiff-jel: finished with status 'done'\n",
            "  Stored in directory: /root/.cache/pip/wheels/83/79/53/88a171311313de0eae7cf978001a90b5bddd69951f6c5643b8\n",
            "Successfully built autodiff-jel\n",
            "Installing collected packages: autodiff-jel\n",
            "Successfully installed autodiff-jel-0.0.4\n"
          ],
          "name": "stdout"
        }
      ]
    },
    {
      "metadata": {
        "id": "TUnH2ofeDwh6",
        "colab_type": "text"
      },
      "cell_type": "markdown",
      "source": [
        "\n",
        "Congratulations, you have installed autodiff-jel. To check that the installation was successful, run the python interpreter by typing 'python'. Import the module and do a simple operation such as printing out the name of the package like so:"
      ]
    },
    {
      "metadata": {
        "id": "d6WtO7ULD7JZ",
        "colab_type": "code",
        "outputId": "fecd5fb9-9581-4547-d3d3-4529e6ba18e1",
        "colab": {
          "base_uri": "https://localhost:8080/",
          "height": 34
        }
      },
      "cell_type": "code",
      "source": [
        "import autodiff as AD\n",
        "import numpy as np\n",
        "AD.name"
      ],
      "execution_count": 0,
      "outputs": [
        {
          "output_type": "execute_result",
          "data": {
            "text/plain": [
              "'autodiff_jel'"
            ]
          },
          "metadata": {
            "tags": []
          },
          "execution_count": 8
        }
      ]
    },
    {
      "metadata": {
        "id": "VHeyB7izD5eV",
        "colab_type": "text"
      },
      "cell_type": "markdown",
      "source": [
        "\n",
        "```Python\n",
        ">>> import autodiff as AD\n",
        ">>> import numpy as np\n",
        ">>> AD.name\n",
        "'autodiff_jel'\n",
        "```\n",
        "\n",
        "If your screen looks like the above, you have successfully installed `autodiff`!\n",
        "\n",
        "Let's now go through a demo. Let us use forward mode automatic differentiation on the function sin(x).\n",
        "We first need to set up the variable and the equation. By default, we are using forward mode differentiation without doing anything extra."
      ]
    },
    {
      "metadata": {
        "id": "XewxioYGEFmq",
        "colab_type": "code",
        "colab": {}
      },
      "cell_type": "code",
      "source": [
        "x = AD.Variable(\"x\")\n",
        "y = AD.sin(x)"
      ],
      "execution_count": 0,
      "outputs": []
    },
    {
      "metadata": {
        "id": "WVniLOmZEDPv",
        "colab_type": "text"
      },
      "cell_type": "markdown",
      "source": [
        "Next we need to assign a value to each variable during the evaluation call."
      ]
    },
    {
      "metadata": {
        "id": "jFE_W1O8EQo9",
        "colab_type": "code",
        "outputId": "119033f2-05fd-46ac-bc59-67149a57ccf2",
        "colab": {
          "base_uri": "https://localhost:8080/",
          "height": 34
        }
      },
      "cell_type": "code",
      "source": [
        "y(x=np.pi)"
      ],
      "execution_count": 0,
      "outputs": [
        {
          "output_type": "execute_result",
          "data": {
            "text/plain": [
              "Node(Function = 'Sine', Value = 1.2246467991473532e-16, Derivative = {'x': -1.0})"
            ]
          },
          "metadata": {
            "tags": []
          },
          "execution_count": 10
        }
      ]
    },
    {
      "metadata": {
        "id": "ebDiprUDEWvP",
        "colab_type": "text"
      },
      "cell_type": "markdown",
      "source": [
        "Lastly, we can now get the derivative of the function like so and specify the variable of the partial derivative:\n"
      ]
    },
    {
      "metadata": {
        "id": "jy4gIdxMEZ0x",
        "colab_type": "code",
        "outputId": "11b8e87c-4e38-4f9b-ea0b-67c38b586f1e",
        "colab": {
          "base_uri": "https://localhost:8080/",
          "height": 34
        }
      },
      "cell_type": "code",
      "source": [
        "print (y.derivative()[\"x\"])"
      ],
      "execution_count": 0,
      "outputs": [
        {
          "output_type": "stream",
          "text": [
            "-1.0\n"
          ],
          "name": "stdout"
        }
      ]
    },
    {
      "metadata": {
        "id": "tiGH-V4YLi_I",
        "colab_type": "text"
      },
      "cell_type": "markdown",
      "source": [
        "We can create a computational graph and a table for the equation:"
      ]
    },
    {
      "metadata": {
        "id": "yMwIwP1ZLnYh",
        "colab_type": "code",
        "outputId": "e73c7a83-1449-4331-a8b5-7826f5728da8",
        "colab": {
          "base_uri": "https://localhost:8080/",
          "height": 176
        }
      },
      "cell_type": "code",
      "source": [
        "y.get_comp_graph()"
      ],
      "execution_count": 0,
      "outputs": [
        {
          "output_type": "execute_result",
          "data": {
            "text/plain": [
              "<autodiff.visualization.CompGraph at 0x7f1613179748>"
            ],
            "image/svg+xml": "<?xml version=\"1.0\" encoding=\"UTF-8\" standalone=\"no\"?>\n<!DOCTYPE svg PUBLIC \"-//W3C//DTD SVG 1.1//EN\"\n \"http://www.w3.org/Graphics/SVG/1.1/DTD/svg11.dtd\">\n<!-- Generated by graphviz version 2.40.1 (20161225.0304)\n -->\n<!-- Title: %3 Pages: 1 -->\n<svg width=\"63pt\" height=\"116pt\"\n viewBox=\"0.00 0.00 62.60 116.00\" xmlns=\"http://www.w3.org/2000/svg\" xmlns:xlink=\"http://www.w3.org/1999/xlink\">\n<g id=\"graph0\" class=\"graph\" transform=\"scale(1 1) rotate(0) translate(4 112)\">\n<title>%3</title>\n<polygon fill=\"#ffffff\" stroke=\"transparent\" points=\"-4,4 -4,-112 58.5952,-112 58.5952,4 -4,4\"/>\n<!-- 1 -->\n<g id=\"node1\" class=\"node\">\n<title>1</title>\n<ellipse fill=\"none\" stroke=\"#0000ff\" cx=\"27.2976\" cy=\"-90\" rx=\"27.0966\" ry=\"18\"/>\n<text text-anchor=\"middle\" x=\"27.2976\" y=\"-86.3\" font-family=\"Times,serif\" font-size=\"14.00\" fill=\"#000000\">Sine</text>\n</g>\n<!-- 0 -->\n<g id=\"node2\" class=\"node\">\n<title>0</title>\n<polygon fill=\"none\" stroke=\"#ff0000\" points=\"54.2976,-36 .2976,-36 .2976,0 54.2976,0 54.2976,-36\"/>\n<text text-anchor=\"middle\" x=\"27.2976\" y=\"-14.3\" font-family=\"Times,serif\" font-size=\"14.00\" fill=\"#000000\">x</text>\n</g>\n<!-- 0&#45;&gt;1 -->\n<g id=\"edge1\" class=\"edge\">\n<title>0&#45;&gt;1</title>\n<path fill=\"none\" stroke=\"#000000\" d=\"M27.2976,-36.1686C27.2976,-43.869 27.2976,-53.0257 27.2976,-61.5834\"/>\n<polygon fill=\"#000000\" stroke=\"#000000\" points=\"23.7977,-61.5867 27.2976,-71.5867 30.7977,-61.5868 23.7977,-61.5867\"/>\n</g>\n</g>\n</svg>\n"
          },
          "metadata": {
            "tags": []
          },
          "execution_count": 12
        }
      ]
    },
    {
      "metadata": {
        "id": "LuvP22RMVO6_",
        "colab_type": "code",
        "outputId": "70d4bbb3-cccb-45d7-cb37-13691a672772",
        "colab": {
          "base_uri": "https://localhost:8080/",
          "height": 111
        }
      },
      "cell_type": "code",
      "source": [
        "y.get_comp_table()"
      ],
      "execution_count": 0,
      "outputs": [
        {
          "output_type": "execute_result",
          "data": {
            "text/html": [
              "<div>\n",
              "<style scoped>\n",
              "    .dataframe tbody tr th:only-of-type {\n",
              "        vertical-align: middle;\n",
              "    }\n",
              "\n",
              "    .dataframe tbody tr th {\n",
              "        vertical-align: top;\n",
              "    }\n",
              "\n",
              "    .dataframe thead th {\n",
              "        text-align: right;\n",
              "    }\n",
              "</style>\n",
              "<table border=\"1\" class=\"dataframe\">\n",
              "  <thead>\n",
              "    <tr style=\"text-align: right;\">\n",
              "      <th></th>\n",
              "      <th>Trace</th>\n",
              "      <th>Elementary Function</th>\n",
              "      <th>Current Value</th>\n",
              "      <th>Grad x value</th>\n",
              "    </tr>\n",
              "  </thead>\n",
              "  <tbody>\n",
              "    <tr>\n",
              "      <th>0</th>\n",
              "      <td>x_1</td>\n",
              "      <td>x</td>\n",
              "      <td>3.141593e+00</td>\n",
              "      <td>1.0</td>\n",
              "    </tr>\n",
              "    <tr>\n",
              "      <th>1</th>\n",
              "      <td>x_2</td>\n",
              "      <td>Sine(x_1)</td>\n",
              "      <td>1.224647e-16</td>\n",
              "      <td>-1.0</td>\n",
              "    </tr>\n",
              "  </tbody>\n",
              "</table>\n",
              "</div>"
            ],
            "text/plain": [
              "  Trace Elementary Function  Current Value  Grad x value\n",
              "0   x_1                   x   3.141593e+00           1.0\n",
              "1   x_2           Sine(x_1)   1.224647e-16          -1.0"
            ]
          },
          "metadata": {
            "tags": []
          },
          "execution_count": 13
        }
      ]
    },
    {
      "metadata": {
        "id": "xGRSdBgrLC6Y",
        "colab_type": "text"
      },
      "cell_type": "markdown",
      "source": [
        "Now, let's do a more advanced example with mulitple variables!"
      ]
    },
    {
      "metadata": {
        "id": "_cNLhKA2LJke",
        "colab_type": "code",
        "outputId": "ff216efa-8b5f-47e2-834e-2203214b82fa",
        "colab": {
          "base_uri": "https://localhost:8080/",
          "height": 54
        }
      },
      "cell_type": "code",
      "source": [
        "a = AD.Variable(\"a\")\n",
        "b = AD.Variable(\"b\")\n",
        "c = AD.Variable(\"c\")\n",
        "d = AD.Variable(\"d\")\n",
        "y = AD.cos((-a)**2/c) - 4*AD.sin(b) * AD.log(AD.exp(d) + 1, 10)\n",
        "y(a = 2, b = 3, c = -1, d = 4)"
      ],
      "execution_count": 0,
      "outputs": [
        {
          "output_type": "execute_result",
          "data": {
            "text/plain": [
              "Node(Function = 'Subtraction', Value = -1.638695338498409, Derivative = {'a': 3.027209981231713, 'c': 3.027209981231713, 'd': -0.24074123364509895, 'b': 6.910386575432481})"
            ]
          },
          "metadata": {
            "tags": []
          },
          "execution_count": 31
        }
      ]
    },
    {
      "metadata": {
        "id": "VLlijmELLij2",
        "colab_type": "code",
        "outputId": "3f012616-f419-41ae-b838-e3e069140097",
        "colab": {
          "base_uri": "https://localhost:8080/",
          "height": 586
        }
      },
      "cell_type": "code",
      "source": [
        "y.get_comp_graph()"
      ],
      "execution_count": 0,
      "outputs": [
        {
          "output_type": "execute_result",
          "data": {
            "text/plain": [
              "<autodiff.visualization.CompGraph at 0x7f1612e9e828>"
            ],
            "image/svg+xml": "<?xml version=\"1.0\" encoding=\"UTF-8\" standalone=\"no\"?>\n<!DOCTYPE svg PUBLIC \"-//W3C//DTD SVG 1.1//EN\"\n \"http://www.w3.org/Graphics/SVG/1.1/DTD/svg11.dtd\">\n<!-- Generated by graphviz version 2.40.1 (20161225.0304)\n -->\n<!-- Title: %3 Pages: 1 -->\n<svg width=\"571pt\" height=\"424pt\"\n viewBox=\"0.00 0.00 571.44 424.00\" xmlns=\"http://www.w3.org/2000/svg\" xmlns:xlink=\"http://www.w3.org/1999/xlink\">\n<g id=\"graph0\" class=\"graph\" transform=\"scale(1 1) rotate(0) translate(4 420)\">\n<title>%3</title>\n<polygon fill=\"#ffffff\" stroke=\"transparent\" points=\"-4,4 -4,-420 567.4423,-420 567.4423,4 -4,4\"/>\n<!-- 150 -->\n<g id=\"node1\" class=\"node\">\n<title>150</title>\n<ellipse fill=\"none\" stroke=\"#0000ff\" cx=\"236.846\" cy=\"-398\" rx=\"53.8905\" ry=\"18\"/>\n<text text-anchor=\"middle\" x=\"236.846\" y=\"-394.3\" font-family=\"Times,serif\" font-size=\"14.00\" fill=\"#000000\">Subtraction</text>\n</g>\n<!-- 140 -->\n<g id=\"node2\" class=\"node\">\n<title>140</title>\n<ellipse fill=\"none\" stroke=\"#0000ff\" cx=\"177.846\" cy=\"-326\" rx=\"36.2938\" ry=\"18\"/>\n<text text-anchor=\"middle\" x=\"177.846\" y=\"-322.3\" font-family=\"Times,serif\" font-size=\"14.00\" fill=\"#000000\">Cosine</text>\n</g>\n<!-- 140&#45;&gt;150 -->\n<g id=\"edge1\" class=\"edge\">\n<title>140&#45;&gt;150</title>\n<path fill=\"none\" stroke=\"#000000\" d=\"M191.5301,-342.6992C198.7639,-351.5269 207.7991,-362.5529 215.8943,-372.4318\"/>\n<polygon fill=\"#000000\" stroke=\"#000000\" points=\"213.3676,-374.8704 222.413,-380.3868 218.7819,-370.4336 213.3676,-374.8704\"/>\n</g>\n<!-- 149 -->\n<g id=\"node3\" class=\"node\">\n<title>149</title>\n<ellipse fill=\"none\" stroke=\"#0000ff\" cx=\"302.846\" cy=\"-326\" rx=\"63.8893\" ry=\"18\"/>\n<text text-anchor=\"middle\" x=\"302.846\" y=\"-322.3\" font-family=\"Times,serif\" font-size=\"14.00\" fill=\"#000000\">Multiplication</text>\n</g>\n<!-- 149&#45;&gt;150 -->\n<g id=\"edge2\" class=\"edge\">\n<title>149&#45;&gt;150</title>\n<path fill=\"none\" stroke=\"#000000\" d=\"M286.8693,-343.4292C278.6813,-352.3615 268.5679,-363.3944 259.582,-373.1971\"/>\n<polygon fill=\"#000000\" stroke=\"#000000\" points=\"256.8529,-370.9947 252.6756,-380.7313 262.013,-375.7248 256.8529,-370.9947\"/>\n</g>\n<!-- 139 -->\n<g id=\"node4\" class=\"node\">\n<title>139</title>\n<ellipse fill=\"none\" stroke=\"#0000ff\" cx=\"170.846\" cy=\"-254\" rx=\"42.7926\" ry=\"18\"/>\n<text text-anchor=\"middle\" x=\"170.846\" y=\"-250.3\" font-family=\"Times,serif\" font-size=\"14.00\" fill=\"#000000\">Division</text>\n</g>\n<!-- 139&#45;&gt;140 -->\n<g id=\"edge3\" class=\"edge\">\n<title>139&#45;&gt;140</title>\n<path fill=\"none\" stroke=\"#000000\" d=\"M172.6124,-272.1686C173.3611,-279.869 174.2513,-289.0257 175.0833,-297.5834\"/>\n<polygon fill=\"#000000\" stroke=\"#000000\" points=\"171.6045,-297.9724 176.0558,-307.5867 178.5717,-297.2949 171.6045,-297.9724\"/>\n</g>\n<!-- 137 -->\n<g id=\"node5\" class=\"node\">\n<title>137</title>\n<ellipse fill=\"none\" stroke=\"#0000ff\" cx=\"91.846\" cy=\"-177\" rx=\"34.394\" ry=\"18\"/>\n<text text-anchor=\"middle\" x=\"91.846\" y=\"-173.3\" font-family=\"Times,serif\" font-size=\"14.00\" fill=\"#000000\">Power</text>\n</g>\n<!-- 137&#45;&gt;139 -->\n<g id=\"edge4\" class=\"edge\">\n<title>137&#45;&gt;139</title>\n<path fill=\"none\" stroke=\"#000000\" d=\"M108.2149,-192.9544C119.2183,-203.6793 133.9193,-218.0082 146.3132,-230.0883\"/>\n<polygon fill=\"#000000\" stroke=\"#000000\" points=\"144.0742,-232.7935 153.6783,-237.2669 148.9601,-227.7807 144.0742,-232.7935\"/>\n</g>\n<!-- 134 -->\n<g id=\"node6\" class=\"node\">\n<title>134</title>\n<polygon fill=\"none\" stroke=\"#ff0000\" points=\"197.846,-195 143.846,-195 143.846,-159 197.846,-159 197.846,-195\"/>\n<text text-anchor=\"middle\" x=\"170.846\" y=\"-173.3\" font-family=\"Times,serif\" font-size=\"14.00\" fill=\"#000000\">c</text>\n</g>\n<!-- 134&#45;&gt;139 -->\n<g id=\"edge5\" class=\"edge\">\n<title>134&#45;&gt;139</title>\n<path fill=\"none\" stroke=\"#000000\" d=\"M170.846,-195.2479C170.846,-204.3578 170.846,-215.5826 170.846,-225.7718\"/>\n<polygon fill=\"#000000\" stroke=\"#000000\" points=\"167.3461,-225.883 170.846,-235.8831 174.3461,-225.8831 167.3461,-225.883\"/>\n</g>\n<!-- 136 -->\n<g id=\"node7\" class=\"node\">\n<title>136</title>\n<ellipse fill=\"none\" stroke=\"#0000ff\" cx=\"44.846\" cy=\"-95\" rx=\"44.6926\" ry=\"18\"/>\n<text text-anchor=\"middle\" x=\"44.846\" y=\"-91.3\" font-family=\"Times,serif\" font-size=\"14.00\" fill=\"#000000\">Negation</text>\n</g>\n<!-- 136&#45;&gt;137 -->\n<g id=\"edge6\" class=\"edge\">\n<title>136&#45;&gt;137</title>\n<path fill=\"none\" stroke=\"#000000\" d=\"M55.0443,-112.7928C61.3695,-123.8282 69.6117,-138.2081 76.6921,-150.5612\"/>\n<polygon fill=\"#000000\" stroke=\"#000000\" points=\"73.8197,-152.5882 81.8291,-159.5236 79.8928,-149.1072 73.8197,-152.5882\"/>\n</g>\n<!-- 138 -->\n<g id=\"node8\" class=\"node\">\n<title>138</title>\n<polygon fill=\"none\" stroke=\"#006400\" points=\"138.846,-118 107.4503,-83.5 170.2417,-83.5 138.846,-118\"/>\n<text text-anchor=\"middle\" x=\"138.846\" y=\"-91.3\" font-family=\"Times,serif\" font-size=\"14.00\" fill=\"#000000\">2</text>\n</g>\n<!-- 138&#45;&gt;137 -->\n<g id=\"edge7\" class=\"edge\">\n<title>138&#45;&gt;137</title>\n<path fill=\"none\" stroke=\"#000000\" d=\"M130.6592,-109.2833C124.1203,-120.6917 114.7796,-136.9881 106.9002,-150.7353\"/>\n<polygon fill=\"#000000\" stroke=\"#000000\" points=\"103.6672,-149.3375 101.731,-159.7539 109.7404,-152.8184 103.6672,-149.3375\"/>\n</g>\n<!-- 132 -->\n<g id=\"node9\" class=\"node\">\n<title>132</title>\n<polygon fill=\"none\" stroke=\"#ff0000\" points=\"71.846,-36 17.846,-36 17.846,0 71.846,0 71.846,-36\"/>\n<text text-anchor=\"middle\" x=\"44.846\" y=\"-14.3\" font-family=\"Times,serif\" font-size=\"14.00\" fill=\"#000000\">a</text>\n</g>\n<!-- 132&#45;&gt;136 -->\n<g id=\"edge8\" class=\"edge\">\n<title>132&#45;&gt;136</title>\n<path fill=\"none\" stroke=\"#000000\" d=\"M44.846,-36.2479C44.846,-45.3578 44.846,-56.5826 44.846,-66.7718\"/>\n<polygon fill=\"#000000\" stroke=\"#000000\" points=\"41.3461,-66.883 44.846,-76.8831 48.3461,-66.8831 41.3461,-66.883\"/>\n</g>\n<!-- 142 -->\n<g id=\"node10\" class=\"node\">\n<title>142</title>\n<ellipse fill=\"none\" stroke=\"#0000ff\" cx=\"302.846\" cy=\"-254\" rx=\"63.8893\" ry=\"18\"/>\n<text text-anchor=\"middle\" x=\"302.846\" y=\"-250.3\" font-family=\"Times,serif\" font-size=\"14.00\" fill=\"#000000\">Multiplication</text>\n</g>\n<!-- 142&#45;&gt;149 -->\n<g id=\"edge9\" class=\"edge\">\n<title>142&#45;&gt;149</title>\n<path fill=\"none\" stroke=\"#000000\" d=\"M302.846,-272.1686C302.846,-279.869 302.846,-289.0257 302.846,-297.5834\"/>\n<polygon fill=\"#000000\" stroke=\"#000000\" points=\"299.3461,-297.5867 302.846,-307.5867 306.3461,-297.5868 299.3461,-297.5867\"/>\n</g>\n<!-- 147 -->\n<g id=\"node11\" class=\"node\">\n<title>147</title>\n<ellipse fill=\"none\" stroke=\"#0000ff\" cx=\"417.846\" cy=\"-254\" rx=\"27\" ry=\"18\"/>\n<text text-anchor=\"middle\" x=\"417.846\" y=\"-250.3\" font-family=\"Times,serif\" font-size=\"14.00\" fill=\"#000000\">Log</text>\n</g>\n<!-- 147&#45;&gt;149 -->\n<g id=\"edge10\" class=\"edge\">\n<title>147&#45;&gt;149</title>\n<path fill=\"none\" stroke=\"#000000\" d=\"M398.0768,-266.3772C381.5926,-276.6978 357.7011,-291.656 337.9727,-304.0076\"/>\n<polygon fill=\"#000000\" stroke=\"#000000\" points=\"335.8614,-301.2001 329.2429,-309.4733 339.5761,-307.1332 335.8614,-301.2001\"/>\n</g>\n<!-- 143 -->\n<g id=\"node12\" class=\"node\">\n<title>143</title>\n<polygon fill=\"none\" stroke=\"#006400\" points=\"246.846,-200 215.4503,-165.5 278.2417,-165.5 246.846,-200\"/>\n<text text-anchor=\"middle\" x=\"246.846\" y=\"-173.3\" font-family=\"Times,serif\" font-size=\"14.00\" fill=\"#000000\">4</text>\n</g>\n<!-- 143&#45;&gt;142 -->\n<g id=\"edge11\" class=\"edge\">\n<title>143&#45;&gt;142</title>\n<path fill=\"none\" stroke=\"#000000\" d=\"M256.3457,-190.062C263.8505,-200.3812 274.5649,-215.1134 283.8177,-227.836\"/>\n<polygon fill=\"#000000\" stroke=\"#000000\" points=\"281.2202,-230.2152 289.9326,-236.244 286.8814,-226.098 281.2202,-230.2152\"/>\n</g>\n<!-- 141 -->\n<g id=\"node13\" class=\"node\">\n<title>141</title>\n<ellipse fill=\"none\" stroke=\"#0000ff\" cx=\"322.846\" cy=\"-177\" rx=\"27.0966\" ry=\"18\"/>\n<text text-anchor=\"middle\" x=\"322.846\" y=\"-173.3\" font-family=\"Times,serif\" font-size=\"14.00\" fill=\"#000000\">Sine</text>\n</g>\n<!-- 141&#45;&gt;142 -->\n<g id=\"edge12\" class=\"edge\">\n<title>141&#45;&gt;142</title>\n<path fill=\"none\" stroke=\"#000000\" d=\"M318.2073,-194.8589C315.8014,-204.1219 312.8075,-215.6482 310.1036,-226.0583\"/>\n<polygon fill=\"#000000\" stroke=\"#000000\" points=\"306.6553,-225.4125 307.5288,-235.9712 313.4305,-227.1723 306.6553,-225.4125\"/>\n</g>\n<!-- 133 -->\n<g id=\"node14\" class=\"node\">\n<title>133</title>\n<polygon fill=\"none\" stroke=\"#ff0000\" points=\"343.846,-113 289.846,-113 289.846,-77 343.846,-77 343.846,-113\"/>\n<text text-anchor=\"middle\" x=\"316.846\" y=\"-91.3\" font-family=\"Times,serif\" font-size=\"14.00\" fill=\"#000000\">b</text>\n</g>\n<!-- 133&#45;&gt;141 -->\n<g id=\"edge13\" class=\"edge\">\n<title>133&#45;&gt;141</title>\n<path fill=\"none\" stroke=\"#000000\" d=\"M318.1776,-113.1985C318.9389,-123.6024 319.9103,-136.8785 320.7697,-148.6232\"/>\n<polygon fill=\"#000000\" stroke=\"#000000\" points=\"317.2976,-149.1345 321.5181,-158.8524 324.279,-148.6236 317.2976,-149.1345\"/>\n</g>\n<!-- 145 -->\n<g id=\"node15\" class=\"node\">\n<title>145</title>\n<ellipse fill=\"none\" stroke=\"#0000ff\" cx=\"417.846\" cy=\"-177\" rx=\"44.393\" ry=\"18\"/>\n<text text-anchor=\"middle\" x=\"417.846\" y=\"-173.3\" font-family=\"Times,serif\" font-size=\"14.00\" fill=\"#000000\">Addition</text>\n</g>\n<!-- 145&#45;&gt;147 -->\n<g id=\"edge14\" class=\"edge\">\n<title>145&#45;&gt;147</title>\n<path fill=\"none\" stroke=\"#000000\" d=\"M417.846,-195.2479C417.846,-204.3578 417.846,-215.5826 417.846,-225.7718\"/>\n<polygon fill=\"#000000\" stroke=\"#000000\" points=\"414.3461,-225.883 417.846,-235.8831 421.3461,-225.8831 414.3461,-225.883\"/>\n</g>\n<!-- 148 -->\n<g id=\"node16\" class=\"node\">\n<title>148</title>\n<polygon fill=\"none\" stroke=\"#006400\" points=\"521.846,-200 480.1532,-165.5 563.5389,-165.5 521.846,-200\"/>\n<text text-anchor=\"middle\" x=\"521.846\" y=\"-173.3\" font-family=\"Times,serif\" font-size=\"14.00\" fill=\"#000000\">10</text>\n</g>\n<!-- 148&#45;&gt;147 -->\n<g id=\"edge15\" class=\"edge\">\n<title>148&#45;&gt;147</title>\n<path fill=\"none\" stroke=\"#000000\" d=\"M506.9454,-188.0322C490.6292,-200.1125 464.1449,-219.721 444.2835,-234.4261\"/>\n<polygon fill=\"#000000\" stroke=\"#000000\" points=\"442.1802,-231.6284 436.2259,-240.3918 446.3455,-237.2543 442.1802,-231.6284\"/>\n</g>\n<!-- 144 -->\n<g id=\"node17\" class=\"node\">\n<title>144</title>\n<ellipse fill=\"none\" stroke=\"#0000ff\" cx=\"417.846\" cy=\"-95\" rx=\"55.7903\" ry=\"18\"/>\n<text text-anchor=\"middle\" x=\"417.846\" y=\"-91.3\" font-family=\"Times,serif\" font-size=\"14.00\" fill=\"#000000\">Exponential</text>\n</g>\n<!-- 144&#45;&gt;145 -->\n<g id=\"edge16\" class=\"edge\">\n<title>144&#45;&gt;145</title>\n<path fill=\"none\" stroke=\"#000000\" d=\"M417.846,-113.1985C417.846,-123.6024 417.846,-136.8785 417.846,-148.6232\"/>\n<polygon fill=\"#000000\" stroke=\"#000000\" points=\"414.3461,-148.8524 417.846,-158.8524 421.3461,-148.8524 414.3461,-148.8524\"/>\n</g>\n<!-- 146 -->\n<g id=\"node18\" class=\"node\">\n<title>146</title>\n<polygon fill=\"none\" stroke=\"#006400\" points=\"522.846,-118 491.4503,-83.5 554.2417,-83.5 522.846,-118\"/>\n<text text-anchor=\"middle\" x=\"522.846\" y=\"-91.3\" font-family=\"Times,serif\" font-size=\"14.00\" fill=\"#000000\">1</text>\n</g>\n<!-- 146&#45;&gt;145 -->\n<g id=\"edge17\" class=\"edge\">\n<title>146&#45;&gt;145</title>\n<path fill=\"none\" stroke=\"#000000\" d=\"M510.3888,-104.7285C494.7548,-116.9379 467.4568,-138.2563 446.5473,-154.5857\"/>\n<polygon fill=\"#000000\" stroke=\"#000000\" points=\"444.3276,-151.8783 438.6004,-160.7918 448.6361,-157.3953 444.3276,-151.8783\"/>\n</g>\n<!-- 135 -->\n<g id=\"node19\" class=\"node\">\n<title>135</title>\n<polygon fill=\"none\" stroke=\"#ff0000\" points=\"444.846,-36 390.846,-36 390.846,0 444.846,0 444.846,-36\"/>\n<text text-anchor=\"middle\" x=\"417.846\" y=\"-14.3\" font-family=\"Times,serif\" font-size=\"14.00\" fill=\"#000000\">d</text>\n</g>\n<!-- 135&#45;&gt;144 -->\n<g id=\"edge18\" class=\"edge\">\n<title>135&#45;&gt;144</title>\n<path fill=\"none\" stroke=\"#000000\" d=\"M417.846,-36.2479C417.846,-45.3578 417.846,-56.5826 417.846,-66.7718\"/>\n<polygon fill=\"#000000\" stroke=\"#000000\" points=\"414.3461,-66.883 417.846,-76.8831 421.3461,-66.8831 414.3461,-66.883\"/>\n</g>\n</g>\n</svg>\n"
          },
          "metadata": {
            "tags": []
          },
          "execution_count": 32
        }
      ]
    },
    {
      "metadata": {
        "id": "0O8b_AA3LmzW",
        "colab_type": "code",
        "outputId": "4c5b295a-3147-419e-aa1c-89efd65267d9",
        "colab": {
          "base_uri": "https://localhost:8080/",
          "height": 638
        }
      },
      "cell_type": "code",
      "source": [
        "y.get_comp_table()"
      ],
      "execution_count": 0,
      "outputs": [
        {
          "output_type": "execute_result",
          "data": {
            "text/html": [
              "<div>\n",
              "<style scoped>\n",
              "    .dataframe tbody tr th:only-of-type {\n",
              "        vertical-align: middle;\n",
              "    }\n",
              "\n",
              "    .dataframe tbody tr th {\n",
              "        vertical-align: top;\n",
              "    }\n",
              "\n",
              "    .dataframe thead th {\n",
              "        text-align: right;\n",
              "    }\n",
              "</style>\n",
              "<table border=\"1\" class=\"dataframe\">\n",
              "  <thead>\n",
              "    <tr style=\"text-align: right;\">\n",
              "      <th></th>\n",
              "      <th>Trace</th>\n",
              "      <th>Elementary Function</th>\n",
              "      <th>Current Value</th>\n",
              "      <th>Grad a value</th>\n",
              "      <th>Grad c value</th>\n",
              "      <th>Grad b value</th>\n",
              "      <th>Grad d value</th>\n",
              "    </tr>\n",
              "  </thead>\n",
              "  <tbody>\n",
              "    <tr>\n",
              "      <th>0</th>\n",
              "      <td>x_1</td>\n",
              "      <td>a</td>\n",
              "      <td>2.000000</td>\n",
              "      <td>1.00</td>\n",
              "      <td>0.00</td>\n",
              "      <td>0.00</td>\n",
              "      <td>0.00</td>\n",
              "    </tr>\n",
              "    <tr>\n",
              "      <th>1</th>\n",
              "      <td>x_2</td>\n",
              "      <td>b</td>\n",
              "      <td>3.000000</td>\n",
              "      <td>0.00</td>\n",
              "      <td>0.00</td>\n",
              "      <td>1.00</td>\n",
              "      <td>0.00</td>\n",
              "    </tr>\n",
              "    <tr>\n",
              "      <th>2</th>\n",
              "      <td>x_3</td>\n",
              "      <td>c</td>\n",
              "      <td>-1.000000</td>\n",
              "      <td>0.00</td>\n",
              "      <td>1.00</td>\n",
              "      <td>0.00</td>\n",
              "      <td>0.00</td>\n",
              "    </tr>\n",
              "    <tr>\n",
              "      <th>3</th>\n",
              "      <td>x_4</td>\n",
              "      <td>d</td>\n",
              "      <td>4.000000</td>\n",
              "      <td>0.00</td>\n",
              "      <td>0.00</td>\n",
              "      <td>0.00</td>\n",
              "      <td>1.00</td>\n",
              "    </tr>\n",
              "    <tr>\n",
              "      <th>4</th>\n",
              "      <td>x_5</td>\n",
              "      <td>Negation(x_1)</td>\n",
              "      <td>-2.000000</td>\n",
              "      <td>0.00</td>\n",
              "      <td>0.00</td>\n",
              "      <td>0.00</td>\n",
              "      <td>0.00</td>\n",
              "    </tr>\n",
              "    <tr>\n",
              "      <th>5</th>\n",
              "      <td>x_6</td>\n",
              "      <td>Power(x_5,x_1)</td>\n",
              "      <td>4.000000</td>\n",
              "      <td>0.00</td>\n",
              "      <td>0.00</td>\n",
              "      <td>0.00</td>\n",
              "      <td>0.00</td>\n",
              "    </tr>\n",
              "    <tr>\n",
              "      <th>6</th>\n",
              "      <td>x_7</td>\n",
              "      <td>2</td>\n",
              "      <td>2.000000</td>\n",
              "      <td>0.00</td>\n",
              "      <td>0.00</td>\n",
              "      <td>0.00</td>\n",
              "      <td>0.00</td>\n",
              "    </tr>\n",
              "    <tr>\n",
              "      <th>7</th>\n",
              "      <td>x_8</td>\n",
              "      <td>Division(x_6,x_3)</td>\n",
              "      <td>-4.000000</td>\n",
              "      <td>-4.00</td>\n",
              "      <td>-0.00</td>\n",
              "      <td>0.00</td>\n",
              "      <td>0.00</td>\n",
              "    </tr>\n",
              "    <tr>\n",
              "      <th>8</th>\n",
              "      <td>x_9</td>\n",
              "      <td>Cosine(x_8)</td>\n",
              "      <td>-0.653644</td>\n",
              "      <td>3.03</td>\n",
              "      <td>0.00</td>\n",
              "      <td>0.00</td>\n",
              "      <td>0.00</td>\n",
              "    </tr>\n",
              "    <tr>\n",
              "      <th>9</th>\n",
              "      <td>x_10</td>\n",
              "      <td>Sine(x_2)</td>\n",
              "      <td>0.141120</td>\n",
              "      <td>0.00</td>\n",
              "      <td>0.00</td>\n",
              "      <td>-0.99</td>\n",
              "      <td>0.00</td>\n",
              "    </tr>\n",
              "    <tr>\n",
              "      <th>10</th>\n",
              "      <td>x_11</td>\n",
              "      <td>Multiplication(x_4,x_10)</td>\n",
              "      <td>0.564480</td>\n",
              "      <td>0.00</td>\n",
              "      <td>0.00</td>\n",
              "      <td>-3.96</td>\n",
              "      <td>0.00</td>\n",
              "    </tr>\n",
              "    <tr>\n",
              "      <th>11</th>\n",
              "      <td>x_12</td>\n",
              "      <td>4</td>\n",
              "      <td>4.000000</td>\n",
              "      <td>0.00</td>\n",
              "      <td>0.00</td>\n",
              "      <td>0.00</td>\n",
              "      <td>0.00</td>\n",
              "    </tr>\n",
              "    <tr>\n",
              "      <th>12</th>\n",
              "      <td>x_13</td>\n",
              "      <td>Exponential(x_4)</td>\n",
              "      <td>54.598150</td>\n",
              "      <td>0.00</td>\n",
              "      <td>0.00</td>\n",
              "      <td>0.00</td>\n",
              "      <td>0.00</td>\n",
              "    </tr>\n",
              "    <tr>\n",
              "      <th>13</th>\n",
              "      <td>x_14</td>\n",
              "      <td>Addition(x_13,x_15)</td>\n",
              "      <td>55.598150</td>\n",
              "      <td>0.00</td>\n",
              "      <td>0.00</td>\n",
              "      <td>0.00</td>\n",
              "      <td>0.00</td>\n",
              "    </tr>\n",
              "    <tr>\n",
              "      <th>14</th>\n",
              "      <td>x_15</td>\n",
              "      <td>1</td>\n",
              "      <td>1.000000</td>\n",
              "      <td>0.00</td>\n",
              "      <td>0.00</td>\n",
              "      <td>0.00</td>\n",
              "      <td>0.00</td>\n",
              "    </tr>\n",
              "    <tr>\n",
              "      <th>15</th>\n",
              "      <td>x_16</td>\n",
              "      <td>Log(x_14,x_17)</td>\n",
              "      <td>1.745060</td>\n",
              "      <td>0.00</td>\n",
              "      <td>0.00</td>\n",
              "      <td>0.00</td>\n",
              "      <td>0.00</td>\n",
              "    </tr>\n",
              "    <tr>\n",
              "      <th>16</th>\n",
              "      <td>x_17</td>\n",
              "      <td>10</td>\n",
              "      <td>10.000000</td>\n",
              "      <td>0.00</td>\n",
              "      <td>0.00</td>\n",
              "      <td>0.00</td>\n",
              "      <td>0.00</td>\n",
              "    </tr>\n",
              "    <tr>\n",
              "      <th>17</th>\n",
              "      <td>x_18</td>\n",
              "      <td>Multiplication(x_11,x_16)</td>\n",
              "      <td>0.985052</td>\n",
              "      <td>0.00</td>\n",
              "      <td>0.00</td>\n",
              "      <td>-6.91</td>\n",
              "      <td>0.24</td>\n",
              "    </tr>\n",
              "    <tr>\n",
              "      <th>18</th>\n",
              "      <td>x_19</td>\n",
              "      <td>Subtraction(x_9,x_18)</td>\n",
              "      <td>-1.638695</td>\n",
              "      <td>3.03</td>\n",
              "      <td>3.03</td>\n",
              "      <td>6.91</td>\n",
              "      <td>-0.24</td>\n",
              "    </tr>\n",
              "  </tbody>\n",
              "</table>\n",
              "</div>"
            ],
            "text/plain": [
              "   Trace        Elementary Function  Current Value  Grad a value  \\\n",
              "0    x_1                          a       2.000000          1.00   \n",
              "1    x_2                          b       3.000000          0.00   \n",
              "2    x_3                          c      -1.000000          0.00   \n",
              "3    x_4                          d       4.000000          0.00   \n",
              "4    x_5              Negation(x_1)      -2.000000          0.00   \n",
              "5    x_6             Power(x_5,x_1)       4.000000          0.00   \n",
              "6    x_7                          2       2.000000          0.00   \n",
              "7    x_8          Division(x_6,x_3)      -4.000000         -4.00   \n",
              "8    x_9                Cosine(x_8)      -0.653644          3.03   \n",
              "9   x_10                  Sine(x_2)       0.141120          0.00   \n",
              "10  x_11   Multiplication(x_4,x_10)       0.564480          0.00   \n",
              "11  x_12                          4       4.000000          0.00   \n",
              "12  x_13           Exponential(x_4)      54.598150          0.00   \n",
              "13  x_14        Addition(x_13,x_15)      55.598150          0.00   \n",
              "14  x_15                          1       1.000000          0.00   \n",
              "15  x_16             Log(x_14,x_17)       1.745060          0.00   \n",
              "16  x_17                         10      10.000000          0.00   \n",
              "17  x_18  Multiplication(x_11,x_16)       0.985052          0.00   \n",
              "18  x_19      Subtraction(x_9,x_18)      -1.638695          3.03   \n",
              "\n",
              "    Grad c value  Grad b value  Grad d value  \n",
              "0           0.00          0.00          0.00  \n",
              "1           0.00          1.00          0.00  \n",
              "2           1.00          0.00          0.00  \n",
              "3           0.00          0.00          1.00  \n",
              "4           0.00          0.00          0.00  \n",
              "5           0.00          0.00          0.00  \n",
              "6           0.00          0.00          0.00  \n",
              "7          -0.00          0.00          0.00  \n",
              "8           0.00          0.00          0.00  \n",
              "9           0.00         -0.99          0.00  \n",
              "10          0.00         -3.96          0.00  \n",
              "11          0.00          0.00          0.00  \n",
              "12          0.00          0.00          0.00  \n",
              "13          0.00          0.00          0.00  \n",
              "14          0.00          0.00          0.00  \n",
              "15          0.00          0.00          0.00  \n",
              "16          0.00          0.00          0.00  \n",
              "17          0.00         -6.91          0.24  \n",
              "18          3.03          6.91         -0.24  "
            ]
          },
          "metadata": {
            "tags": []
          },
          "execution_count": 33
        }
      ]
    },
    {
      "metadata": {
        "id": "3ihDNSZNLqBc",
        "colab_type": "text"
      },
      "cell_type": "markdown",
      "source": [
        "Checkout `visualization_examples.ipynb` file under examples folder for more details on visualization."
      ]
    },
    {
      "metadata": {
        "id": "la5AXN4lJYPS",
        "colab_type": "text"
      },
      "cell_type": "markdown",
      "source": [
        "Now, let's do the same example using reverse mode differentiation. First we need to set the differentiation mode to reverse:"
      ]
    },
    {
      "metadata": {
        "id": "4f1yDzwCJ46g",
        "colab_type": "code",
        "outputId": "af78968a-a526-4dac-ce0e-bf3c13394d4d",
        "colab": {
          "base_uri": "https://localhost:8080/",
          "height": 164
        }
      },
      "cell_type": "code",
      "source": [
        "AD.settings.set_mode(\"reverse\")"
      ],
      "execution_count": 0,
      "outputs": [
        {
          "output_type": "error",
          "ename": "AttributeError",
          "evalue": "ignored",
          "traceback": [
            "\u001b[0;31m---------------------------------------------------------------------------\u001b[0m",
            "\u001b[0;31mAttributeError\u001b[0m                            Traceback (most recent call last)",
            "\u001b[0;32m<ipython-input-15-fdcb68b8eff7>\u001b[0m in \u001b[0;36m<module>\u001b[0;34m()\u001b[0m\n\u001b[0;32m----> 1\u001b[0;31m \u001b[0mAD\u001b[0m\u001b[0;34m.\u001b[0m\u001b[0mSettings\u001b[0m\u001b[0;34m.\u001b[0m\u001b[0msettings\u001b[0m\u001b[0;34m.\u001b[0m\u001b[0mset_mode\u001b[0m\u001b[0;34m(\u001b[0m\u001b[0;34m\"reverse\"\u001b[0m\u001b[0;34m)\u001b[0m\u001b[0;34m\u001b[0m\u001b[0;34m\u001b[0m\u001b[0m\n\u001b[0m",
            "\u001b[0;31mAttributeError\u001b[0m: module 'autodiff' has no attribute 'Settings'"
          ]
        }
      ]
    },
    {
      "metadata": {
        "id": "7AZ1qehiKhv0",
        "colab_type": "text"
      },
      "cell_type": "markdown",
      "source": [
        "Next, we do the same as before and create a variable and set up a function. Then we assign a value to x and voila!"
      ]
    },
    {
      "metadata": {
        "id": "Q0m3Q6P2KaG8",
        "colab_type": "code",
        "outputId": "f418bb74-cbdf-4ffc-fae5-72804200d66f",
        "colab": {
          "base_uri": "https://localhost:8080/",
          "height": 34
        }
      },
      "cell_type": "code",
      "source": [
        "x = AD.Variable(\"x\")\n",
        "y = AD.sin(x)\n",
        "y(x=np.pi)"
      ],
      "execution_count": 0,
      "outputs": [
        {
          "output_type": "execute_result",
          "data": {
            "text/plain": [
              "Node(Function = 'Sine', Value = 1.2246467991473532e-16, Derivative = {'x': -1.0})"
            ]
          },
          "metadata": {
            "tags": []
          },
          "execution_count": 28
        }
      ]
    },
    {
      "metadata": {
        "id": "a9PDsqufLg7r",
        "colab_type": "text"
      },
      "cell_type": "markdown",
      "source": [
        "Congratulations, you can now begin automatically differentiating away! "
      ]
    },
    {
      "metadata": {
        "id": "b94Z_6LMBXj8",
        "colab_type": "text"
      },
      "cell_type": "markdown",
      "source": [
        "# Background\n",
        "\n",
        "The basic principles behind automatic differentiation rely on calculating the derivative of a function by splitting the calculation into a number of parts, and can be approached using a number of equivalent methodologies. The simplest illustration of the forward mode of AD is taking the chain rule and treating a tricky function as a composite function of a series of elementary operations. The product of each derivative, building up through each of the elementary functions, gives a computationally simple and accurate method for evaluating difficult derivatives.\n",
        "\n",
        "For functions that map ![equation](http://latex.codecogs.com/gif.latex?R%5Em) to ![equation](http://latex.codecogs.com/gif.latex?R%5En), we can see that this method of computing the derivative is equivalent to computing the Jacobian. This can be computationally illustrated through:\n",
        "\n",
        "![equation](http://latex.codecogs.com/gif.latex?D_%7Bp%7Dx%20%3D%20%5Csum_%7Bj%3D1%7D%5E%7Bm%7D%7B%5Cdfrac%7B%5Cpartial%20x%7D%7B%5Cpartial%20x_%7Bj%7D%7Dp_%7Bj%7D%7D)\n",
        "\n",
        "where we take x as our m-dimensional input vector, and ![equation](http://latex.codecogs.com/gif.latex?p) as a seed vector that is all 0's except for a 1 at the dimension we desire to compute for the Jacobian, thus filling in each of the entries.\n",
        "\n",
        "Finally, for the implementation in our software package, we take advantage of the construction of dual numbers, which is an algebra with the following construction:\n",
        "\n",
        "Given any number x, rewrite it as: ![equation](http://latex.codecogs.com/gif.latex?x%20%3D%20x&plus;%5Cepsilon%20x%27), where ![equation](http://latex.codecogs.com/gif.latex?%5Cepsilon) has the property such that ![equation](http://latex.codecogs.com/gif.latex?%5Cepsilon%5E2%20%3D%200). This construction is extremely useful because it enables the automatic computation of derivatives, provided the initial derivative at any given x upon instantiation, simply by expanding the formula and computing algebraically the equivalent dual number solution. For the purposes of our implementation of the forward mode of automatic differentiation, we will use dual numbers to compute the appropriate derivatives at each step. \n",
        "\n",
        "One of the new features in this package is a method that enables the user to visualize the forward propogation of derivatives in forward mode differentiation. The user will be able to visualize graphically how the derivative of the whole function is calculated from the individual components. The visualization comes in the form of a directed acyclic graph, a DAG, and will provide a means to see the propogation of the derivatives from inner function components all the way out. \n",
        "\n",
        "In addition, this library also includes an alternative form of differentiation: reverse mode differentiation. Reverse mode differentiation is a much more efficient method of computing derivatives as compared to forward mode and is a great addition for users concerned with the time complexity of code. This package supports use of reverse mode differentiation for scalar operations.\n",
        "\n",
        "Lastly, another new feature in this package is the ability to visualize Newton fractals. The Newton-Raphson iteration method successively outputs better approximations of the roots of a function through use of the function itself and its derivatives. The method intakes a function *f(x)*, its derivative *f'(x)*, and an approximation of the root a and continually calculates *a′=a−f(a)/f′(a)*, where a' is a better approximation of the root than a. One typically iterates over and over again until the approximations converge, signalling that a really good approximation r has been found where *f(r) = 0*. This method works for roots in both the complex and real planes. Newton fractals build on these approximations and are a visualization of which root each starting root approximation *a* converges to. As one can expect, when beginning approximations are pretty good approximations of a certain root, it will converge to that root. Something interesting happens during when the approximation is a really bad one and it is precisely this that generates the fractals in Newton fractals. These really bad approximations are essentially so bad that the whole surrounding area is essentially unstable and does not converge to one root as a whole. This behavior gives us these beautiful fractals. (https://www.chiark.greenend.org.uk/~sgtatham/newton/ [link text](https://www.chiark.greenend.org.uk/~sgtatham/newton/))\n",
        "\n"
      ]
    },
    {
      "metadata": {
        "id": "FX6KvevhBaXy",
        "colab_type": "text"
      },
      "cell_type": "markdown",
      "source": [
        "\n",
        "# Software Organization\n",
        "\n",
        "Our directory will look like:\n",
        "```\n",
        "cs207-Finalproject\\\n",
        "  autodiff\\\n",
        "    __init__.py\n",
        "    node.py\n",
        "    operators.py\n",
        "    settings.py\n",
        "    visualization.py\n",
        "  documentation\\\n",
        "    documentation.ipynb\n",
        "    milestone1.md\n",
        "    milestone2.md\n",
        "  examples\\\n",
        "    fractals.py\n",
        "    visualization_examples.ipynb\n",
        "    fractals_examples.ipynb\n",
        "  tests\\\n",
        "    test_node.py\n",
        "    test_operators.py\n",
        "    test_visualization.py\n",
        "  .coverage\n",
        "  .gitignore\n",
        "  .travis.yml\n",
        "  LICENSE\n",
        "  setup.cfg\n",
        "  setup.py\n",
        "  README.md\n",
        "  requirements.txt\n",
        "```\n",
        "\n",
        "The key modules and their basic functionalities are:\n",
        "* node.py: Defines the core structure of forward automatic differentiation. This includes operator overloading.\n",
        "* operators.py: Defines operators that can be applied to nodes.\n",
        "* visualization.py: Visualizes the computational graph or table for forward automatic differentation.\n",
        "* settings.py: Sets the differentiation mode between forward and backward.\n",
        "* fractals.py: Implements and visualizes Newton fractals.\n",
        "\n",
        "The test suite will live in the `tests/` directory, which we will be maintain by using  TravisCI for continuous integration and Coveralls for verifying test coverage. The package will be distributed through PyPI."
      ]
    },
    {
      "metadata": {
        "id": "07PmigBKBbME",
        "colab_type": "text"
      },
      "cell_type": "markdown",
      "source": [
        "# How to Use AutoDiff\n",
        "\n",
        "The user will obtain our package through PyPI. The user will first install the package then import it into their project file.\n",
        "Example use:\n",
        "\n",
        "```Python\n",
        "from autodiff import Variable, sin, cos, log, exp\n",
        "\n",
        "a = Variable(\"a\")\n",
        "b = Variable(\"b\")\n",
        "c = Variable(\"c\")\n",
        "d = Variable(\"d\")\n",
        "y = cos((-a)**2/c) - 4*sin(b) * log(exp(d) + 1, 10)\n",
        "\n",
        "y(a = 2, b = 3, c = -1, d = 4)\n",
        "\n",
        "print(round(y.value(),2))\n",
        "-1.64\n",
        "\n",
        "print(round(y.derivative()[\"a\"], 2))\n",
        "3.03\n",
        "\n",
        "print(y)\n",
        "Node(Function = 'Subtraction', Value = -1.638695338498409, Derivative = {'b': 6.910386575432481, 'd': -0.24074123364509895, 'c': 3.027209981231713, 'a': 3.027209981231713})\n",
        "```\n",
        "\n",
        "The user can instantiate multiple nodes and apply any operators outlined in the `Operators` module. The value and the gradients of the node can be accessed by using the `value` and `derivative` methods respectively. Our implementation is meant to be as intuitive as possible, allowing natural manipulation of formula expressions through extensive use of python magic methods, and built in functions for handling the most common math functions. In addition, every node saves its values upon computation at any given point, allowing for more extensive analysis at different points and the capability of implementing a visualization module."
      ]
    },
    {
      "metadata": {
        "id": "hkdkEXIYBf3N",
        "colab_type": "text"
      },
      "cell_type": "markdown",
      "source": [
        "\n",
        "# Implementation\n",
        "Our implementation centers around the use of the class `Node`, which is an abstract class defining a single operation. Nodes may be `Constant`s and `Variable`s, which are reflexive functions that simply return their value. Every node is equivalently a dual number store, as it contains both the real value part, and the dual differentiated part at that point in the graph. Nodes are built upon one another by the `children` attribute, which contain all the lower-level nodes that are involved in the computation of the current node. This implementation seeks to elegantly reconstruct the basis of automatic differentiation, the computational graph and table, in implementing both the forward and reverse modes, and thus necessitates the storage of the derivative values as they are propagated through the graph."
      ]
    },
    {
      "metadata": {
        "id": "S22sMSc4Bh2m",
        "colab_type": "text"
      },
      "cell_type": "markdown",
      "source": [
        "\n",
        "## What are the core data structures?\n",
        "The core data structures are `Variable`s, which are symbolic at initialization, and are given a value at computation. Computation is invoked by calling any node directly with either a dictionary or a direct keyword list, where the keys to both are simply the names of the variables at instantiation. The variables needed for any given node are only those which are involved directly in the computation up until that node, meaning the recursive list of all variables involved in that node's children. When computation is called, both the values, and the partial derivatives (for every variable involved), are propagated from the Variables to the node from which computation is called, for the forward mode. The data is stored automatically through use of a decorator factory that makes defining any new operations extremely simple, and pain-free by requiring only numerical computation in subclass implementations of new functions, and no handling of the internals of our implementation."
      ]
    },
    {
      "metadata": {
        "id": "4rAw-znhBj4H",
        "colab_type": "text"
      },
      "cell_type": "markdown",
      "source": [
        "\n",
        "## What classes will you implement\n",
        "We implement the base Node class representing a function, which necessitates subclassing and specifically the overriding of the `eval` and `diff` methods. These methods, when combined with the provided `node_decorator`, will automatically pass `(values)` and `(values, diffs)` to `eval` and `diff` respectively, which are lists of the values and immediate derivatives of all children nodes. This means that any user-subclassed custom functions will only need to numerically handle the value computation and dual-number based derivative computation and return that output, and the rest of the implementation will work. Furthermore, we use a seed-based derivative system where partials are computed one at a time (essentially passing all requisite variables a one-hot kind of vector in their derivatives to compute one partial), meaning that implementations of the derivative can remain univariate in output, simplifying computation."
      ]
    },
    {
      "metadata": {
        "id": "ML_czLnlBlyr",
        "colab_type": "text"
      },
      "cell_type": "markdown",
      "source": [
        "\n",
        "## What method and name attributes will your classes have?\n",
        "\n",
        "`Node`\n",
        "\n",
        "The Node class is the core structure. It is the basis of all classes in `Operators` module. Below are the method and name attributes of the `Node` class.\n",
        "\n",
        "```\n",
        "class Node:\n",
        "  Attributes:\n",
        "    _value: Value at the current node; holds values for the most recent computation\n",
        "    _derivative: Derivative/Gradients of the node in dictionary form\n",
        "    _variables: All variables involved in the computation of this node\n",
        "    _cur_var: Marker for determining the current partial being computed when iterating through all seed values (in computing full Jacobian)\n",
        "    children: A list of all children nodes which are involved in this computation\n",
        "    type: String describing the type of computation or node this is\n",
        "  Methods:\n",
        "    ### Class methods ###\n",
        "    @classmethod\n",
        "    make_constant(cls, value): Class method for constructing a Constant node\n",
        "\n",
        "    @classmethod\n",
        "    make_node(cls, node, *values): Important class method that takes in a new Node instance, and properly instantiates it with children from the unpacked values argument list (which can include both numeric values and nodes)\n",
        "\n",
        "    ### Magic Methods ###\n",
        "    __call__(self): Convenience wrapper for calling the compute function, which computes the node value and derivatives at given point\n",
        "    __repr__(self): Representation of node with values, derivatives, and type of function\n",
        "    __add__(self, value): Constructs an Addition node\n",
        "    __radd__(self, value): ^\n",
        "    __neg__(self): Constructs a Negation node\n",
        "    __sub__(self, value): Constructs a Subtraction node\n",
        "    __rsub__(self, value): ^\n",
        "    __mul__(self, value): Constructs a Multiplication node\n",
        "    __rmul__(self, value): ^\n",
        "    __truediv__(self, value): Constructs a Division node\n",
        "    __rtruediv__(self, value): ^\n",
        "    __pow__(self, value): Constructs a Power node\n",
        "    __rpow__(self, value): ^\n",
        "    __eq__(self, value): Returns true if nodes have the same values and derivatives\n",
        "    __ne__(self, value): Returns not __eq__(self, value)\n",
        "    __hash__(self): Returns unique identification number for each Node for hashing\n",
        "\n",
        "    ### Attribute Methods ###\n",
        "    value(self): Function for returning the value at the current node\n",
        "    derivative(self): Function for returning the derivatives at the current node\n",
        "    set_value(self, value): Set a value\n",
        "    set_derivative(self, value): Set a derivative\n",
        "    set_children(self, *children): Give current node children\n",
        "\n",
        "    ### Variable Methods ###\n",
        "    update_variables(self): Called when constructing a new node. This computes the minimal set of variables involved among the children, and sets the current node's variables reference appropriately\n",
        "    set_variables(self, input_dict): Called at computation, and sets all variables to the given values defined by input_dict. Note that the same minimal set of variables is referenced by all nodes that use it, so this function can be called from anywhere further in the computational graph\n",
        "    zero_vector_derivative: [TODO]\n",
        "    update_cur_var(self): Find the current partial by looking at which variable has been seeded properly. This is necessary as a way to let other nodes not directly calling the compute method what variable the current partial is with regard to.\n",
        "    iterate_seeds(self): A generator that is responsible for iterating among all partials necessary at the current node to find the full gradient\n",
        "\n",
        "    ### Computation Methods ###\n",
        "    compute(self, *args, **kwargs): Method that initates the full computation through all children by taking in either an input dictionary (such as {'x': 4, 'y': 3}), or keyword pairs (such as (x=4, y=3)) with the variables referenced by the name they were instantiated with. Returns self once all values are updated.\n",
        "    eval(self, values): A method to be overriden by subclasses, which will implement the actual calculation of the value itself by the function this node is responsible for. Usage of the decorator node_decorate greatly simplifies this implementation, see specifics below\n",
        "    diff(self, values, diffs): Like eval, to be overriden and implemented with the dual-number solution to the derivative of the current function.\n",
        "    get_comp_graph(self): Creates a computational graph for a given node.\n",
        "    get_comp_table(self): Creates a computational table for a given node.\n",
        "\n",
        "class node_decorate:\n",
        "  This is a decorator implemented as a class (can be implemented as a function, but less elegant) that serves as a decorator factory for methods that need to be overrided: eval, and diff. This class allows all subclasses of Node to only worry about implementing a purely numerical method for computation of values and derivatives, and will handle all the logistics necessary to both save those values at each point in the graph automatically, and properly expose and propagate data as necessary to the function.\n",
        "\n",
        "class Variable:\n",
        "  Subclass of Node that implements a simple Variable. Basis of all computation in forward-mode.\n",
        "class Constant:\n",
        "  Convenience class constructed automatically when a constant shows up in computation.\n",
        "class Addition, Subtraction ...\n",
        "  Subclasses of Node that implement elementary functions.\n",
        "```\n",
        "\n",
        "`Operators`\n",
        "\n",
        "Classes here contain additional Node types that define common operations such as sin, log, exp, etc. These also contain the constructor for these nodes - recall that Node is simply the symbolic representation of a function in the graph, and not an actual computation directly initializable by the user. For that, a more familiar and intuitive approach is provided by the built in functions (denoted with lowercase letters) sin, log, exp, etc. that will take in either numeric values or nodes, and output the appropriate respective Sin, Log, Exp nodes."
      ]
    },
    {
      "metadata": {
        "id": "2cLCgTEABrwJ",
        "colab_type": "text"
      },
      "cell_type": "markdown",
      "source": [
        "\n",
        "## What external dependencies will you rely on?\n",
        "\n",
        "We rely mostly on numpy for efficient computation; other requirements are needed for some of the extension features of this library. For forward mode visualization, we require graphviz and pandas.\n",
        "\n",
        "We will specifically leverage [matrix operations](https://docs.scipy.org/doc/numpy-1.15.1/reference/arrays.html) and [universal functions](https://docs.scipy.org/doc/numpy-1.15.1/reference/ufuncs.html) from `Numpy`, [Digraph](https://networkx.github.io/documentation/networkx-1.10/reference/classes.digraph.html) from graphviz and [Dataframe](https://pandas.pydata.org/pandas-docs/version/0.23.4/generated/pandas.DataFrame.html) from pandas. "
      ]
    },
    {
      "metadata": {
        "id": "RNtjCgJeBsaP",
        "colab_type": "text"
      },
      "cell_type": "markdown",
      "source": [
        "\n",
        "## How will you deal with elementary functions like sin and exp?\n",
        "\n",
        "Elementary functions including trigonometric functions, logarithmic functions, and exponential functions, will be accounted for in `Operators.py`, which are subclasses of `Node`. These will be naturally handled and can be user overriden by direct import, so that they can use intuitive expressions like `sin(x+y/4)`"
      ]
    },
    {
      "metadata": {
        "id": "Ms2bvE1OB8T5",
        "colab_type": "text"
      },
      "cell_type": "markdown",
      "source": [
        "# Future\n",
        "\n",
        "In the future, we can add vector support for reverse mode differentiation. This addition would make our differentiation model truly complete with support for scalar and vector operations in both modes of differentiation. In addition, we could also provide further support for trigonometric functions by including secant, cosecant, and cotangent functions. In addition to the purely mathematical additions to the library, we could also add more extensions for applications of automatic differentiation. One extension could be to add support to minimize or maximize equations given a set of constraints. Such optimization problems come in many forms and in many fields, from artificial intelligence to [topology optimization](https://caeai.com/blog/what-topology-optimization-and-why-use-it), which aims to find the best distribution of a material given a set of contraints and optimization goal. Providing support for optimization problems will open this library up to many different use cases."
      ]
    },
    {
      "metadata": {
        "id": "MBfAeKOCBHWp",
        "colab_type": "code",
        "colab": {}
      },
      "cell_type": "code",
      "source": [
        ""
      ],
      "execution_count": 0,
      "outputs": []
    }
  ]
}