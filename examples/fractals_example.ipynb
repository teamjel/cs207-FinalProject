{
 "cells": [
  {
   "cell_type": "code",
   "execution_count": 8,
   "metadata": {},
   "outputs": [],
   "source": [
    "%matplotlib inline\n",
    "import sys\n",
    "sys.path.append('..')\n",
    "from autodiff import *\n",
    "import matplotlib.pyplot as plt\n",
    "from tqdm import tqdm\n",
    "import math\n",
    "import numpy as np"
   ]
  },
  {
   "cell_type": "code",
   "execution_count": 9,
   "metadata": {},
   "outputs": [],
   "source": [
    "from fractals import *"
   ]
  },
  {
   "cell_type": "code",
   "execution_count": 77,
   "metadata": {},
   "outputs": [],
   "source": [
    "def difference(f, z, diff_method = \"AD\", max_iters=50, alpha=1):\n",
    "    for i in range(max_iters):\n",
    "        f(x=z)\n",
    "        if diff_method == \"AD\":\n",
    "            derivative = f.derivative()[\"x\"]\n",
    "        elif diff_method == \"Finite\":\n",
    "            derivative = finite_difference(f,z)\n",
    "        zplus = z - alpha*f.value()/derivative\n",
    "    return zplus - z\n",
    "\n",
    "def difference_grid(f, size, area, diff_method=\"AD\", e=1e-3, max_iters=50, alpha=1, ):\n",
    "    # Parameters\n",
    "    roots = []\n",
    "    ((x_min, x_max), (y_min, y_max)) = area\n",
    "    (x_size, y_size) = size\n",
    "    \n",
    "    # Outputs\n",
    "    grid_diff = np.zeros((y_size, x_size))\n",
    "    \n",
    "    # Grid calculations over complex plane\n",
    "    for y in (range(y_size)):\n",
    "        z_y = y * (y_max - y_min)/(y_size - 1) + y_min\n",
    "        for x in range(x_size):\n",
    "            z_x = x * (x_max - x_min)/(x_size - 1) + x_min\n",
    "            diff = difference(f, complex(z_x, z_y), diff_method, max_iters)\n",
    "            grid_diff[y,x] = diff\n",
    "                \n",
    "    return grid_diff\n"
   ]
  },
  {
   "cell_type": "code",
   "execution_count": 6,
   "metadata": {},
   "outputs": [],
   "source": []
  },
  {
   "cell_type": "code",
   "execution_count": 7,
   "metadata": {},
   "outputs": [
    {
     "name": "stderr",
     "output_type": "stream",
     "text": [
      "/Users/jaemincheun/Documents/harvard/CS207/cs207-FinalProject/examples/fractals.py:76: RuntimeWarning: invalid value encountered in true_divide\n",
      "  scaled = grid_iter/np.max(grid_iter)\n"
     ]
    },
    {
     "ename": "IndexError",
     "evalue": "too many indices for array",
     "output_type": "error",
     "traceback": [
      "\u001b[0;31m---------------------------------------------------------------------------\u001b[0m",
      "\u001b[0;31mIndexError\u001b[0m                                Traceback (most recent call last)",
      "\u001b[0;32m<ipython-input-7-3f81e82cd5ab>\u001b[0m in \u001b[0;36m<module>\u001b[0;34m()\u001b[0m\n\u001b[1;32m     13\u001b[0m     \u001b[0mimage\u001b[0m \u001b[0;34m=\u001b[0m \u001b[0mgrid_to_image\u001b[0m\u001b[0;34m(\u001b[0m\u001b[0mgrid_root\u001b[0m\u001b[0;34m,\u001b[0m\u001b[0mgrid_iter\u001b[0m\u001b[0;34m,\u001b[0m\u001b[0mroots\u001b[0m\u001b[0;34m)\u001b[0m\u001b[0;34m\u001b[0m\u001b[0m\n\u001b[1;32m     14\u001b[0m     \u001b[0mcmap\u001b[0m \u001b[0;34m=\u001b[0m \u001b[0mplt\u001b[0m\u001b[0;34m.\u001b[0m\u001b[0mget_cmap\u001b[0m\u001b[0;34m(\u001b[0m\u001b[0;34m\"nipy_spectral\"\u001b[0m\u001b[0;34m)\u001b[0m\u001b[0;34m\u001b[0m\u001b[0m\n\u001b[0;32m---> 15\u001b[0;31m     \u001b[0max_list\u001b[0m\u001b[0;34m[\u001b[0m\u001b[0;36m0\u001b[0m\u001b[0;34m,\u001b[0m\u001b[0midx\u001b[0m\u001b[0;34m]\u001b[0m\u001b[0;34m.\u001b[0m\u001b[0mimshow\u001b[0m\u001b[0;34m(\u001b[0m\u001b[0mimage\u001b[0m\u001b[0;34m,\u001b[0m \u001b[0mcmap\u001b[0m\u001b[0;34m=\u001b[0m\u001b[0mcmap\u001b[0m\u001b[0;34m)\u001b[0m\u001b[0;34m\u001b[0m\u001b[0m\n\u001b[0m\u001b[1;32m     16\u001b[0m \u001b[0;32mfor\u001b[0m \u001b[0midx\u001b[0m\u001b[0;34m,\u001b[0m \u001b[0mmax_iters\u001b[0m \u001b[0;32min\u001b[0m \u001b[0menumerate\u001b[0m\u001b[0;34m(\u001b[0m\u001b[0miter_list\u001b[0m\u001b[0;34m)\u001b[0m\u001b[0;34m:\u001b[0m\u001b[0;34m\u001b[0m\u001b[0m\n\u001b[1;32m     17\u001b[0m     \u001b[0mgrid_root\u001b[0m\u001b[0;34m,\u001b[0m \u001b[0mgrid_iter\u001b[0m\u001b[0;34m,\u001b[0m \u001b[0mroots\u001b[0m \u001b[0;34m=\u001b[0m \u001b[0mfractal_grid\u001b[0m\u001b[0;34m(\u001b[0m\u001b[0mf\u001b[0m\u001b[0;34m,\u001b[0m \u001b[0msize\u001b[0m\u001b[0;34m,\u001b[0m \u001b[0marea\u001b[0m\u001b[0;34m,\u001b[0m \u001b[0;34m\"Finite\"\u001b[0m\u001b[0;34m,\u001b[0m \u001b[0me\u001b[0m\u001b[0;34m,\u001b[0m \u001b[0mmax_iters\u001b[0m\u001b[0;34m,\u001b[0m \u001b[0malpha\u001b[0m\u001b[0;34m)\u001b[0m\u001b[0;34m\u001b[0m\u001b[0m\n",
      "\u001b[0;31mIndexError\u001b[0m: too many indices for array"
     ]
    },
    {
     "data": {
      "text/plain": [
       "<Figure size 432x288 with 0 Axes>"
      ]
     },
     "metadata": {},
     "output_type": "display_data"
    },
    {
     "data": {
      "image/png": "[encoded data removed]",
      "text/plain": [
       "<Figure size 432x288 with 2 Axes>"
      ]
     },
     "metadata": {},
     "output_type": "display_data"
    }
   ],
   "source": [
    "size = (200,200)\n",
    "area = ((-1,1), (-1,1))\n",
    "e = 1e-3\n",
    "# max_iters = 40\n",
    "alpha = 1\n",
    "iter_list = [1]\n",
    "x = Variable('x')\n",
    "f = x**3 - 1\n",
    "fig = plt.figure()\n",
    "fig, ax_list = plt.subplots(2,len(iter_list))\n",
    "for idx, max_iters in enumerate(iter_list):\n",
    "    grid_root, grid_iter, roots = fractal_grid(f, size, area, \"AD\", e, max_iters, alpha)\n",
    "    image = grid_to_image(grid_root,grid_iter,roots)\n",
    "    cmap = plt.get_cmap(\"nipy_spectral\")\n",
    "    ax_list[0,idx].imshow(image, cmap=cmap)\n",
    "for idx, max_iters in enumerate(iter_list):\n",
    "    grid_root, grid_iter, roots = fractal_grid(f, size, area, \"Finite\", e, max_iters, alpha)\n",
    "    image = grid_to_image(grid_root,grid_iter,roots)\n",
    "    cmap = plt.get_cmap(\"nipy_spectral\")\n",
    "    ax_list[1,idx].imshow(image, cmap=cmap)"
   ]
  },
  {
   "cell_type": "code",
   "execution_count": 178,
   "metadata": {},
   "outputs": [],
   "source": [
    "def log_and_scale(image):\n",
    "    result = [[np.log(j) for j in k] for k in image]\n",
    "    max_value = np.max(result)\n",
    "    result = [[j * 255.0/max_value for j in k] for k in result]\n",
    "    return result"
   ]
  },
  {
   "cell_type": "code",
   "execution_count": 189,
   "metadata": {},
   "outputs": [
    {
     "data": {
      "text/plain": [
       "<Figure size 432x288 with 0 Axes>"
      ]
     },
     "metadata": {},
     "output_type": "display_data"
    },
    {
     "data": {
      "image/png": "[encoded data removed]",
      "text/plain": [
       "<Figure size 432x288 with 6 Axes>"
      ]
     },
     "metadata": {},
     "output_type": "display_data"
    }
   ],
   "source": [
    "size = (200,200)\n",
    "area = ((-1,1), (-1,1))\n",
    "e = 1e-3\n",
    "# max_iters = 40\n",
    "alpha = 1\n",
    "iter_list = np.arange(10,12)\n",
    "x = Variable('x')\n",
    "f = x**(complex(3,4)) - 4 \n",
    "fig = plt.figure()\n",
    "fig, ax_list = plt.subplots(3,len(iter_list))\n",
    "for idx, max_iters in enumerate(iter_list):\n",
    "    grid_root, grid_iter, roots = fractal_grid(f, size, area, \"AD\", e, max_iters, alpha)\n",
    "    image = grid_to_image(grid_root,grid_iter,roots)\n",
    "    cmap = plt.get_cmap(\"nipy_spectral\")\n",
    "    ax_list[0,idx].imshow(image, cmap=cmap)\n",
    "    \n",
    "    grid_root, grid_iter, roots = fractal_grid(f, size, area, \"Finite\", e, max_iters, alpha)\n",
    "    image = grid_to_image(grid_root,grid_iter,roots)\n",
    "    cmap = plt.get_cmap(\"nipy_spectral\")\n",
    "    ax_list[1,idx].imshow(image, cmap=cmap)\n",
    "    \n",
    "#     grid_diff_AD = difference_grid(f, size, area, \"AD\", e, max_iters, alpha)\n",
    "#     grid_diff_FINITE = difference_grid(f, size, area, \"Finite\", e, max_iters, alpha)\n",
    "#     diff = abs(grid_diff_AD - grid_diff_FINITE)\n",
    "#     diff = log_and_scale(diff)\n",
    "#     ax_list[2, idx].imshow(diff, cmap=\"Greys\")"
   ]
  },
  {
   "cell_type": "code",
   "execution_count": null,
   "metadata": {},
   "outputs": [],
   "source": [
    "size = (200,200)\n",
    "area = ((-1,1), (-1,1))\n",
    "e = 1e-3\n",
    "# max_iters = 40\n",
    "alpha = 1\n",
    "iter_list = np.arange(1,3)\n",
    "x = Variable('x')\n",
    "f = x**3 - 1\n",
    "fig = plt.figure()\n",
    "fig, ax_list = plt.subplots(1,len(iter_list))\n",
    "for idx, max_iters in enumerate(iter_list):\n",
    "    grid_diff_AD = difference_grid(f, size, area, \"AD\", e, max_iters, alpha)\n",
    "    grid_diff_FINITE = difference_grid(f, size, area, \"Finite\", e, max_iters, alpha)\n",
    "    diff = abs(grid_diff_AD - grid_diff_FINITE)\n",
    "    diff = log_and_scale(diff)\n",
    "    ax_list[idx].imshow(diff, cmap=cmap)"
   ]
  },
  {
   "cell_type": "code",
   "execution_count": null,
   "metadata": {},
   "outputs": [],
   "source": [
    "def grid_to_image_bw(grid):\n",
    "    "
   ]
  },
  {
   "cell_type": "code",
   "execution_count": 46,
   "metadata": {},
   "outputs": [
    {
     "name": "stdout",
     "output_type": "stream",
     "text": [
      "1219.67\n"
     ]
    }
   ],
   "source": [
    "print(np.mean(sum(grid_iter)))"
   ]
  },
  {
   "cell_type": "code",
   "execution_count": 9,
   "metadata": {},
   "outputs": [],
   "source": [
    "# Uses matplotlib cmap\n",
    "def grid_to_image_2(grid_root, grid_iter, roots, cmap):\n",
    "    idxs = np.linspace(0,255,len(roots),dtype=int)\n",
    "    img = np.zeros((*grid_root.shape,3))\n",
    "    \n",
    "    grid_iter = np.log(grid_iter)\n",
    "    scaled = grid_iter/np.max(grid_iter)\n",
    "    \n",
    "    for i in range(len(roots)):\n",
    "        color = cmap(idxs[i])\n",
    "        for j in range(3):\n",
    "            img[grid_root==(i+1),j] = color[j]\n",
    "    \n",
    "    img = img*scaled[...,np.newaxis]\n",
    "    return img\n",
    "\n",
    "def grid_to_image(grid_root, grid_iter, roots):\n",
    "    img = np.zeros((grid_root.shape))\n",
    "    idxs = np.linspace(0,255,len(roots),dtype=int)\n",
    "    \n",
    "#     grid_iter = np.log(grid_iter)\n",
    "    scaled = grid_iter/np.max(grid_iter)\n",
    "    \n",
    "    shift = scaled*(256/4)\n",
    "    \n",
    "    for i in range(len(roots)):\n",
    "        img[grid_root==i+1] = idxs[i]+shift[grid_root==i+1]\n",
    "#         img[grid_root==i+1] = idxs[i]\n",
    "    \n",
    "    return img\n",
    "    \n",
    "\n",
    "# cmap = plt.get_cmap(\"nipy_spectral\")\n",
    "# image = grid_to_image(grid_root,grid_iter,roots)\n",
    "# plt.imshow(image, cmap=cmap)"
   ]
  },
  {
   "cell_type": "code",
   "execution_count": 10,
   "metadata": {},
   "outputs": [],
   "source": [
    "import matplotlib.animation as animation\n",
    "# Save video\n",
    "def save_video(frames, filename, cmap, display=True):\n",
    "    fig = plt.figure()\n",
    "    ims = []\n",
    "    for i in range(len(frames)):\n",
    "        im = plt.imshow(frames[i], cmap=cmap, animated=True)\n",
    "        ims.append([im])\n",
    "        \n",
    "    ani = animation.ArtistAnimation(fig, ims, interval=50, blit=True)\n",
    "    if display:\n",
    "        plt.show()\n",
    "    ani.save(filename)"
   ]
  },
  {
   "cell_type": "code",
   "execution_count": 13,
   "metadata": {},
   "outputs": [
    {
     "name": "stdout",
     "output_type": "stream",
     "text": [
      "0.5\n"
     ]
    },
    {
     "ename": "KeyboardInterrupt",
     "evalue": "",
     "output_type": "error",
     "traceback": [
      "\u001b[0;31m---------------------------------------------------------------------------\u001b[0m",
      "\u001b[0;31mKeyboardInterrupt\u001b[0m                         Traceback (most recent call last)",
      "\u001b[0;32m<ipython-input-13-659944e3c112>\u001b[0m in \u001b[0;36m<module>\u001b[0;34m()\u001b[0m\n\u001b[1;32m     11\u001b[0m \u001b[0;32mfor\u001b[0m \u001b[0malpha\u001b[0m \u001b[0;32min\u001b[0m \u001b[0mnp\u001b[0m\u001b[0;34m.\u001b[0m\u001b[0mlinspace\u001b[0m\u001b[0;34m(\u001b[0m\u001b[0;36m0.5\u001b[0m\u001b[0;34m,\u001b[0m\u001b[0;36m1.5\u001b[0m\u001b[0;34m,\u001b[0m\u001b[0;36m30\u001b[0m\u001b[0;34m)\u001b[0m\u001b[0;34m:\u001b[0m\u001b[0;34m\u001b[0m\u001b[0m\n\u001b[1;32m     12\u001b[0m     \u001b[0mprint\u001b[0m\u001b[0;34m(\u001b[0m\u001b[0malpha\u001b[0m\u001b[0;34m)\u001b[0m\u001b[0;34m\u001b[0m\u001b[0m\n\u001b[0;32m---> 13\u001b[0;31m     \u001b[0mgrid_root\u001b[0m\u001b[0;34m,\u001b[0m \u001b[0mgrid_iter\u001b[0m\u001b[0;34m,\u001b[0m \u001b[0mroots\u001b[0m \u001b[0;34m=\u001b[0m \u001b[0mfractal_grid\u001b[0m\u001b[0;34m(\u001b[0m\u001b[0mf\u001b[0m\u001b[0;34m,\u001b[0m \u001b[0msize\u001b[0m\u001b[0;34m,\u001b[0m \u001b[0marea\u001b[0m\u001b[0;34m,\u001b[0m \u001b[0me\u001b[0m\u001b[0;34m,\u001b[0m \u001b[0mmax_iters\u001b[0m\u001b[0;34m,\u001b[0m \u001b[0malpha\u001b[0m\u001b[0;34m)\u001b[0m\u001b[0;34m\u001b[0m\u001b[0m\n\u001b[0m\u001b[1;32m     14\u001b[0m     \u001b[0mimages\u001b[0m\u001b[0;34m.\u001b[0m\u001b[0mappend\u001b[0m\u001b[0;34m(\u001b[0m\u001b[0mgrid_to_image\u001b[0m\u001b[0;34m(\u001b[0m\u001b[0mgrid_root\u001b[0m\u001b[0;34m,\u001b[0m\u001b[0mgrid_iter\u001b[0m\u001b[0;34m,\u001b[0m\u001b[0mroots\u001b[0m\u001b[0;34m)\u001b[0m\u001b[0;34m)\u001b[0m\u001b[0;34m\u001b[0m\u001b[0m\n",
      "\u001b[0;32m<ipython-input-7-d78ff3889ddc>\u001b[0m in \u001b[0;36mfractal_grid\u001b[0;34m(f, size, area, e, max_iters, alpha)\u001b[0m\n\u001b[1;32m     41\u001b[0m         \u001b[0;32mfor\u001b[0m \u001b[0mx\u001b[0m \u001b[0;32min\u001b[0m \u001b[0mrange\u001b[0m\u001b[0;34m(\u001b[0m\u001b[0mx_size\u001b[0m\u001b[0;34m)\u001b[0m\u001b[0;34m:\u001b[0m\u001b[0;34m\u001b[0m\u001b[0m\n\u001b[1;32m     42\u001b[0m             \u001b[0mz_x\u001b[0m \u001b[0;34m=\u001b[0m \u001b[0mx\u001b[0m \u001b[0;34m*\u001b[0m \u001b[0;34m(\u001b[0m\u001b[0mx_max\u001b[0m \u001b[0;34m-\u001b[0m \u001b[0mx_min\u001b[0m\u001b[0;34m)\u001b[0m\u001b[0;34m/\u001b[0m\u001b[0;34m(\u001b[0m\u001b[0mx_size\u001b[0m \u001b[0;34m-\u001b[0m \u001b[0;36m1\u001b[0m\u001b[0;34m)\u001b[0m \u001b[0;34m+\u001b[0m \u001b[0mx_min\u001b[0m\u001b[0;34m\u001b[0m\u001b[0m\n\u001b[0;32m---> 43\u001b[0;31m             \u001b[0mfound\u001b[0m \u001b[0;34m=\u001b[0m \u001b[0mnewtons_method\u001b[0m\u001b[0;34m(\u001b[0m\u001b[0mf\u001b[0m\u001b[0;34m,\u001b[0m \u001b[0mcomplex\u001b[0m\u001b[0;34m(\u001b[0m\u001b[0mz_x\u001b[0m\u001b[0;34m,\u001b[0m \u001b[0mz_y\u001b[0m\u001b[0;34m)\u001b[0m\u001b[0;34m,\u001b[0m \u001b[0me\u001b[0m\u001b[0;34m,\u001b[0m \u001b[0mmax_iters\u001b[0m\u001b[0;34m)\u001b[0m\u001b[0;34m\u001b[0m\u001b[0m\n\u001b[0m\u001b[1;32m     44\u001b[0m             \u001b[0;32mif\u001b[0m \u001b[0mfound\u001b[0m\u001b[0;34m:\u001b[0m\u001b[0;34m\u001b[0m\u001b[0m\n\u001b[1;32m     45\u001b[0m                 \u001b[0mroot\u001b[0m\u001b[0;34m,\u001b[0m \u001b[0miters\u001b[0m \u001b[0;34m=\u001b[0m \u001b[0mfound\u001b[0m\u001b[0;34m\u001b[0m\u001b[0m\n",
      "\u001b[0;32m<ipython-input-7-d78ff3889ddc>\u001b[0m in \u001b[0;36mnewtons_method\u001b[0;34m(f, z, e, max_iters, alpha)\u001b[0m\n\u001b[1;32m      4\u001b[0m    \u001b[0;31m# Fourty iterations for safe measure\u001b[0m\u001b[0;34m\u001b[0m\u001b[0;34m\u001b[0m\u001b[0m\n\u001b[1;32m      5\u001b[0m     \u001b[0;32mfor\u001b[0m \u001b[0mi\u001b[0m \u001b[0;32min\u001b[0m \u001b[0mrange\u001b[0m\u001b[0;34m(\u001b[0m\u001b[0mmax_iters\u001b[0m\u001b[0;34m)\u001b[0m\u001b[0;34m:\u001b[0m\u001b[0;34m\u001b[0m\u001b[0m\n\u001b[0;32m----> 6\u001b[0;31m         \u001b[0mf\u001b[0m\u001b[0;34m(\u001b[0m\u001b[0mx\u001b[0m\u001b[0;34m=\u001b[0m\u001b[0mz\u001b[0m\u001b[0;34m)\u001b[0m\u001b[0;34m\u001b[0m\u001b[0m\n\u001b[0m\u001b[1;32m      7\u001b[0m         \u001b[0mzplus\u001b[0m \u001b[0;34m=\u001b[0m \u001b[0mz\u001b[0m \u001b[0;34m-\u001b[0m \u001b[0malpha\u001b[0m\u001b[0;34m*\u001b[0m\u001b[0mf\u001b[0m\u001b[0;34m.\u001b[0m\u001b[0mvalue\u001b[0m\u001b[0;34m(\u001b[0m\u001b[0;34m)\u001b[0m\u001b[0;34m/\u001b[0m\u001b[0mf\u001b[0m\u001b[0;34m.\u001b[0m\u001b[0mderivative\u001b[0m\u001b[0;34m(\u001b[0m\u001b[0;34m)\u001b[0m\u001b[0;34m[\u001b[0m\u001b[0;34m\"x\"\u001b[0m\u001b[0;34m]\u001b[0m\u001b[0;34m\u001b[0m\u001b[0m\n\u001b[1;32m      8\u001b[0m         \u001b[0;31m# Checks for convergence\u001b[0m\u001b[0;34m\u001b[0m\u001b[0;34m\u001b[0m\u001b[0m\n",
      "\u001b[0;32m~/Documents/harvard/CS207/cs207-FinalProject/autodiff/node.py\u001b[0m in \u001b[0;36m__call__\u001b[0;34m(self, *args, **kwargs)\u001b[0m\n\u001b[1;32m    109\u001b[0m \u001b[0;34m\u001b[0m\u001b[0m\n\u001b[1;32m    110\u001b[0m         \u001b[0;32mdef\u001b[0m \u001b[0m__call__\u001b[0m\u001b[0;34m(\u001b[0m\u001b[0mself\u001b[0m\u001b[0;34m,\u001b[0m \u001b[0;34m*\u001b[0m\u001b[0margs\u001b[0m\u001b[0;34m,\u001b[0m \u001b[0;34m**\u001b[0m\u001b[0mkwargs\u001b[0m\u001b[0;34m)\u001b[0m\u001b[0;34m:\u001b[0m\u001b[0;34m\u001b[0m\u001b[0m\n\u001b[0;32m--> 111\u001b[0;31m                 \u001b[0;32mreturn\u001b[0m \u001b[0mself\u001b[0m\u001b[0;34m.\u001b[0m\u001b[0mcompute\u001b[0m\u001b[0;34m(\u001b[0m\u001b[0;34m*\u001b[0m\u001b[0margs\u001b[0m\u001b[0;34m,\u001b[0m \u001b[0;34m**\u001b[0m\u001b[0mkwargs\u001b[0m\u001b[0;34m)\u001b[0m\u001b[0;34m\u001b[0m\u001b[0m\n\u001b[0m\u001b[1;32m    112\u001b[0m \u001b[0;34m\u001b[0m\u001b[0m\n\u001b[1;32m    113\u001b[0m         \u001b[0;32mdef\u001b[0m \u001b[0m__repr__\u001b[0m\u001b[0;34m(\u001b[0m\u001b[0mself\u001b[0m\u001b[0;34m)\u001b[0m\u001b[0;34m:\u001b[0m\u001b[0;34m\u001b[0m\u001b[0m\n",
      "\u001b[0;32m~/Documents/harvard/CS207/cs207-FinalProject/autodiff/node.py\u001b[0m in \u001b[0;36mcompute\u001b[0;34m(self, *args, **kwargs)\u001b[0m\n\u001b[1;32m    275\u001b[0m \u001b[0;34m\u001b[0m\u001b[0m\n\u001b[1;32m    276\u001b[0m                 \u001b[0;32mfor\u001b[0m \u001b[0mvar\u001b[0m \u001b[0;32min\u001b[0m \u001b[0mself\u001b[0m\u001b[0;34m.\u001b[0m\u001b[0miterate_seeds\u001b[0m\u001b[0;34m(\u001b[0m\u001b[0;34m)\u001b[0m\u001b[0;34m:\u001b[0m\u001b[0;34m\u001b[0m\u001b[0m\n\u001b[0;32m--> 277\u001b[0;31m                         \u001b[0mself\u001b[0m\u001b[0;34m.\u001b[0m\u001b[0mdiff\u001b[0m\u001b[0;34m(\u001b[0m\u001b[0;34m)\u001b[0m\u001b[0;34m\u001b[0m\u001b[0m\n\u001b[0m\u001b[1;32m    278\u001b[0m \u001b[0;34m\u001b[0m\u001b[0m\n\u001b[1;32m    279\u001b[0m                 \u001b[0;32mreturn\u001b[0m \u001b[0mself\u001b[0m\u001b[0;34m\u001b[0m\u001b[0m\n",
      "\u001b[0;32m~/Documents/harvard/CS207/cs207-FinalProject/autodiff/node.py\u001b[0m in \u001b[0;36mwrapper\u001b[0;34m(self)\u001b[0m\n\u001b[1;32m     61\u001b[0m                                 \u001b[0mdiffs\u001b[0m \u001b[0;34m=\u001b[0m \u001b[0;34m[\u001b[0m\u001b[0mchild\u001b[0m\u001b[0;34m.\u001b[0m\u001b[0mdiff\u001b[0m\u001b[0;34m(\u001b[0m\u001b[0;34m)\u001b[0m \u001b[0;32mfor\u001b[0m \u001b[0mchild\u001b[0m \u001b[0;32min\u001b[0m \u001b[0mself\u001b[0m\u001b[0;34m.\u001b[0m\u001b[0mchildren\u001b[0m\u001b[0;34m]\u001b[0m\u001b[0;34m\u001b[0m\u001b[0m\n\u001b[1;32m     62\u001b[0m                                 \u001b[0mresult\u001b[0m \u001b[0;34m=\u001b[0m \u001b[0mfn\u001b[0m\u001b[0;34m(\u001b[0m\u001b[0mself\u001b[0m\u001b[0;34m,\u001b[0m \u001b[0mvalues\u001b[0m\u001b[0;34m,\u001b[0m \u001b[0mdiffs\u001b[0m\u001b[0;34m)\u001b[0m\u001b[0;34m\u001b[0m\u001b[0m\n\u001b[0;32m---> 63\u001b[0;31m                                 \u001b[0mself\u001b[0m\u001b[0;34m.\u001b[0m\u001b[0mset_derivative\u001b[0m\u001b[0;34m(\u001b[0m\u001b[0mresult\u001b[0m\u001b[0;34m)\u001b[0m\u001b[0;34m\u001b[0m\u001b[0m\n\u001b[0m\u001b[1;32m     64\u001b[0m                                 \u001b[0;32mreturn\u001b[0m \u001b[0mresult\u001b[0m\u001b[0;34m\u001b[0m\u001b[0m\n\u001b[1;32m     65\u001b[0m                         \u001b[0;32mreturn\u001b[0m \u001b[0mwrapper\u001b[0m\u001b[0;34m\u001b[0m\u001b[0m\n",
      "\u001b[0;32m~/Documents/harvard/CS207/cs207-FinalProject/autodiff/node.py\u001b[0m in \u001b[0;36mset_derivative\u001b[0;34m(self, value)\u001b[0m\n\u001b[1;32m    186\u001b[0m         \u001b[0;32mdef\u001b[0m \u001b[0mset_derivative\u001b[0m\u001b[0;34m(\u001b[0m\u001b[0mself\u001b[0m\u001b[0;34m,\u001b[0m \u001b[0mvalue\u001b[0m\u001b[0;34m)\u001b[0m\u001b[0;34m:\u001b[0m\u001b[0;34m\u001b[0m\u001b[0m\n\u001b[1;32m    187\u001b[0m                 \u001b[0mvar\u001b[0m \u001b[0;34m=\u001b[0m \u001b[0mself\u001b[0m\u001b[0;34m.\u001b[0m\u001b[0mupdate_cur_var\u001b[0m\u001b[0;34m(\u001b[0m\u001b[0;34m)\u001b[0m\u001b[0;34m\u001b[0m\u001b[0m\n\u001b[0;32m--> 188\u001b[0;31m                 \u001b[0;32mif\u001b[0m \u001b[0misinstance\u001b[0m\u001b[0;34m(\u001b[0m\u001b[0mvalue\u001b[0m\u001b[0;34m,\u001b[0m \u001b[0mnumbers\u001b[0m\u001b[0;34m.\u001b[0m\u001b[0mNumber\u001b[0m\u001b[0;34m)\u001b[0m\u001b[0;34m:\u001b[0m\u001b[0;34m\u001b[0m\u001b[0m\n\u001b[0m\u001b[1;32m    189\u001b[0m                         \u001b[0mself\u001b[0m\u001b[0;34m.\u001b[0m\u001b[0m_derivative\u001b[0m\u001b[0;34m[\u001b[0m\u001b[0mself\u001b[0m\u001b[0;34m.\u001b[0m\u001b[0m_cur_var\u001b[0m\u001b[0;34m]\u001b[0m \u001b[0;34m=\u001b[0m \u001b[0mvalue\u001b[0m\u001b[0;34m\u001b[0m\u001b[0m\n\u001b[1;32m    190\u001b[0m                 \u001b[0;32melse\u001b[0m\u001b[0;34m:\u001b[0m\u001b[0;34m\u001b[0m\u001b[0m\n",
      "\u001b[0;32m~/anaconda3/lib/python3.6/abc.py\u001b[0m in \u001b[0;36m__instancecheck__\u001b[0;34m(cls, instance)\u001b[0m\n\u001b[1;32m    181\u001b[0m         \u001b[0;34m\"\"\"Override for isinstance(instance, cls).\"\"\"\u001b[0m\u001b[0;34m\u001b[0m\u001b[0m\n\u001b[1;32m    182\u001b[0m         \u001b[0;31m# Inline the cache checking\u001b[0m\u001b[0;34m\u001b[0m\u001b[0;34m\u001b[0m\u001b[0m\n\u001b[0;32m--> 183\u001b[0;31m         \u001b[0msubclass\u001b[0m \u001b[0;34m=\u001b[0m \u001b[0minstance\u001b[0m\u001b[0;34m.\u001b[0m\u001b[0m__class__\u001b[0m\u001b[0;34m\u001b[0m\u001b[0m\n\u001b[0m\u001b[1;32m    184\u001b[0m         \u001b[0;32mif\u001b[0m \u001b[0msubclass\u001b[0m \u001b[0;32min\u001b[0m \u001b[0mcls\u001b[0m\u001b[0;34m.\u001b[0m\u001b[0m_abc_cache\u001b[0m\u001b[0;34m:\u001b[0m\u001b[0;34m\u001b[0m\u001b[0m\n\u001b[1;32m    185\u001b[0m             \u001b[0;32mreturn\u001b[0m \u001b[0;32mTrue\u001b[0m\u001b[0;34m\u001b[0m\u001b[0m\n",
      "\u001b[0;31mKeyboardInterrupt\u001b[0m: "
     ]
    }
   ],
   "source": [
    "size = (500,500)\n",
    "area = ((-1,1), (-1,1))\n",
    "e = 1e-3\n",
    "max_iters = 40\n",
    "alpha = 1\n",
    "\n",
    "x = Variable('x')\n",
    "f = x**3 - 1\n",
    "\n",
    "images = []\n",
    "for alpha in np.linspace(0.5,1.5,30):\n",
    "    print(alpha)\n",
    "    grid_root, grid_iter, roots = fractal_grid(f, size, area, e, max_iters, alpha)\n",
    "    images.append(grid_to_image(grid_root,grid_iter,roots))"
   ]
  },
  {
   "cell_type": "code",
   "execution_count": 12,
   "metadata": {},
   "outputs": [
    {
     "ename": "NameError",
     "evalue": "name 'images' is not defined",
     "output_type": "error",
     "traceback": [
      "\u001b[0;31m---------------------------------------------------------------------------\u001b[0m",
      "\u001b[0;31mNameError\u001b[0m                                 Traceback (most recent call last)",
      "\u001b[0;32m<ipython-input-12-260f061d36c9>\u001b[0m in \u001b[0;36m<module>\u001b[0;34m()\u001b[0m\n\u001b[0;32m----> 1\u001b[0;31m \u001b[0msave_video\u001b[0m\u001b[0;34m(\u001b[0m\u001b[0mimages\u001b[0m\u001b[0;34m,\u001b[0m \u001b[0;34m'fractals_are_cool.mp4'\u001b[0m\u001b[0;34m,\u001b[0m \u001b[0mcmap\u001b[0m\u001b[0;34m)\u001b[0m\u001b[0;34m\u001b[0m\u001b[0m\n\u001b[0m",
      "\u001b[0;31mNameError\u001b[0m: name 'images' is not defined"
     ]
    }
   ],
   "source": [
    "save_video(images, 'fractals_are_cool.mp4', cmap)"
   ]
  },
  {
   "cell_type": "code",
   "execution_count": 11,
   "metadata": {},
   "outputs": [
    {
     "ename": "NameError",
     "evalue": "name 'images' is not defined",
     "output_type": "error",
     "traceback": [
      "\u001b[0;31m---------------------------------------------------------------------------\u001b[0m",
      "\u001b[0;31mNameError\u001b[0m                                 Traceback (most recent call last)",
      "\u001b[0;32m<ipython-input-11-776cd981ff63>\u001b[0m in \u001b[0;36m<module>\u001b[0;34m()\u001b[0m\n\u001b[0;32m----> 1\u001b[0;31m \u001b[0;32mfor\u001b[0m \u001b[0midx\u001b[0m\u001b[0;34m,\u001b[0m \u001b[0mimage\u001b[0m \u001b[0;32min\u001b[0m \u001b[0menumerate\u001b[0m\u001b[0;34m(\u001b[0m\u001b[0mimages\u001b[0m\u001b[0;34m)\u001b[0m\u001b[0;34m:\u001b[0m\u001b[0;34m\u001b[0m\u001b[0m\n\u001b[0m\u001b[1;32m      2\u001b[0m     \u001b[0mplt\u001b[0m\u001b[0;34m.\u001b[0m\u001b[0mimsave\u001b[0m\u001b[0;34m(\u001b[0m\u001b[0;34m'%d.jpg'\u001b[0m \u001b[0;34m%\u001b[0m \u001b[0midx\u001b[0m\u001b[0;34m,\u001b[0m \u001b[0mimage\u001b[0m\u001b[0;34m,\u001b[0m \u001b[0mcmap\u001b[0m\u001b[0;34m=\u001b[0m\u001b[0mcmap\u001b[0m\u001b[0;34m)\u001b[0m\u001b[0;34m\u001b[0m\u001b[0m\n",
      "\u001b[0;31mNameError\u001b[0m: name 'images' is not defined"
     ]
    }
   ],
   "source": [
    "for idx, image in enumerate(images):\n",
    "    plt.imsave('%d.jpg' % idx, image, cmap=cmap)"
   ]
  },
  {
   "cell_type": "code",
   "execution_count": null,
   "metadata": {},
   "outputs": [],
   "source": [
    "cmap = plt.get_cmap(\"nipy_spectral\")\n",
    "save_video(images, \"test.mp4\", cmapw)"
   ]
  },
  {
   "cell_type": "code",
   "execution_count": null,
   "metadata": {},
   "outputs": [],
   "source": [
    "import autodiff as AD\n",
    "from PIL import Image\n",
    "\n",
    "x_min, x_max = -1.0, 1.0\n",
    "\n",
    "y_min, y_max = -1.0, 1.0\n",
    "\n",
    "colors = [\\\n",
    "(180, 0, 30), (0, 180, 30), (0, 30, 180), \\\n",
    "(0, 190, 180), (180, 0, 175), (180, 255, 0), \\\n",
    "(155, 170, 180), (70, 50, 0), (255, 255, 255)]\n",
    "\n",
    "max_iters = 50\n",
    "epsilon = 1e-3\n",
    "\n",
    "def newtons_method(f, z):\n",
    "   # Fourty iterations for safe measure\n",
    "    for i in range(max_iters):\n",
    "        f(x=z)\n",
    "        zplus = z - f.value()/f.derivative()[\"x\"]\n",
    "        # Checks for convergence\n",
    "        if abs(zplus - z) < e:\n",
    "            return z\n",
    "        z = zplus\n",
    "\n",
    "    return None\n",
    "\n",
    "# Draws the functions\n",
    "def draw(f, fmg, size, img_name):\n",
    "    roots = []\n",
    "    for y in range(size):\n",
    "        z_y = y * (y_max - y_min)/(size - 1) + y_min\n",
    "        for x in range(size):\n",
    "            z_x = x * (x_max - x_min)/(size - 1) + x_min\n",
    "            root = newtons_method(f, complex(z_x, z_y))\n",
    "            if root:\n",
    "                flag = False\n",
    "                for test_root in roots:\n",
    "                    if abs(test_root - root) < 10e-3:\n",
    "                        root = test_root\n",
    "                        flag = True\n",
    "                        break\n",
    "                if not flag:\n",
    "                    roots.append(root)\n",
    "            if root:\n",
    "                img.putpixel((x, y), colors[roots.index(root)])\n",
    "    print(roots)\n",
    "    img.save(img_name, \"PNG\")\n",
    " \n",
    "size = 256\n",
    "img = Image.new(\"RGB\", (size, size), (255, 255, 255))\n",
    "x = AD.Variable(\"x\")\n",
    "draw(x**3 - 1, img, size, \"fig1.png\");\n",
    "draw(x**2 - 2*x + 2, img, size, \"fig2.png\");\n",
    "draw(x**6 - x**3 + 2, img, size, \"fig3.png\");\n",
    "draw(x**3 - 2*x + 2, img, size, \"fig3.png\");\n",
    "draw(x**5 - x, img, size, \"fig4.png\")"
   ]
  },
  {
   "cell_type": "code",
   "execution_count": null,
   "metadata": {},
   "outputs": [],
   "source": [
    "for i in range(1,5):\n",
    "    print(i)\n",
    "    display(Image.open(f'fig{i}.png'))"
   ]
  },
  {
   "cell_type": "code",
   "execution_count": null,
   "metadata": {},
   "outputs": [],
   "source": []
  }
 ],
 "metadata": {
  "kernelspec": {
   "display_name": "Python 3",
   "language": "python",
   "name": "python3"
  },
  "language_info": {
   "codemirror_mode": {
    "name": "ipython",
    "version": 3
   },
   "file_extension": ".py",
   "mimetype": "text/x-python",
   "name": "python",
   "nbconvert_exporter": "python",
   "pygments_lexer": "ipython3",
   "version": "3.6.5"
  }
 },
 "nbformat": 4,
 "nbformat_minor": 2
}
